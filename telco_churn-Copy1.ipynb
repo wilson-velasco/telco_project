{
 "cells": [
  {
   "cell_type": "markdown",
   "id": "e91ba8b5",
   "metadata": {},
   "source": [
    "# Imports"
   ]
  },
  {
   "cell_type": "code",
   "execution_count": 1,
   "id": "1e6026d4",
   "metadata": {},
   "outputs": [],
   "source": [
    "import pandas as pd\n",
    "import numpy as np\n",
    "import matplotlib.pyplot as plt\n",
    "import seaborn as sns\n",
    "\n",
    "import wrangle as w\n",
    "import explore_mod as em\n",
    "\n",
    "from sklearn.tree import DecisionTreeClassifier, plot_tree\n",
    "from sklearn.ensemble import RandomForestClassifier\n",
    "from sklearn.neighbors import KNeighborsClassifier\n",
    "from sklearn.linear_model import LogisticRegression\n",
    "from sklearn.metrics import classification_report, confusion_matrix"
   ]
  },
  {
   "cell_type": "markdown",
   "id": "f462dbd1",
   "metadata": {},
   "source": [
    "# Project Description"
   ]
  },
  {
   "cell_type": "markdown",
   "id": "4d50bfb4",
   "metadata": {},
   "source": [
    "The aim of this project is to look at what drives customer churn for a fictional company, Telco.\n",
    "\n",
    "The main goals are:\n",
    "\n",
    "- Determine at least two factors that contribute to customer churn.\n",
    "- Predict with at least 80% accuracy whether a given customer will churn.\n",
    "- Provide stakeholders with recommendations as to how to reduce customer churn.\n",
    "\n",
    "## Hypothesis:\n",
    "\n",
    "> monthly_charges and tenure are the most determining factors of whether a customer will churn."
   ]
  },
  {
   "cell_type": "markdown",
   "id": "4dc751fc",
   "metadata": {},
   "source": [
    "# Data Wrangling"
   ]
  },
  {
   "cell_type": "markdown",
   "id": "470a5d7c",
   "metadata": {},
   "source": [
    "First, we'll get our data from the database. The function will save a local copy."
   ]
  },
  {
   "cell_type": "code",
   "execution_count": 2,
   "id": "3c08ce5e",
   "metadata": {},
   "outputs": [
    {
     "data": {
      "text/html": [
       "<div>\n",
       "<style scoped>\n",
       "    .dataframe tbody tr th:only-of-type {\n",
       "        vertical-align: middle;\n",
       "    }\n",
       "\n",
       "    .dataframe tbody tr th {\n",
       "        vertical-align: top;\n",
       "    }\n",
       "\n",
       "    .dataframe thead th {\n",
       "        text-align: right;\n",
       "    }\n",
       "</style>\n",
       "<table border=\"1\" class=\"dataframe\">\n",
       "  <thead>\n",
       "    <tr style=\"text-align: right;\">\n",
       "      <th></th>\n",
       "      <th>payment_type_id</th>\n",
       "      <th>internet_service_type_id</th>\n",
       "      <th>contract_type_id</th>\n",
       "      <th>customer_id</th>\n",
       "      <th>gender</th>\n",
       "      <th>senior_citizen</th>\n",
       "      <th>partner</th>\n",
       "      <th>dependents</th>\n",
       "      <th>tenure</th>\n",
       "      <th>phone_service</th>\n",
       "      <th>...</th>\n",
       "      <th>tech_support</th>\n",
       "      <th>streaming_tv</th>\n",
       "      <th>streaming_movies</th>\n",
       "      <th>paperless_billing</th>\n",
       "      <th>monthly_charges</th>\n",
       "      <th>total_charges</th>\n",
       "      <th>churn</th>\n",
       "      <th>contract_type</th>\n",
       "      <th>internet_service_type</th>\n",
       "      <th>payment_type</th>\n",
       "    </tr>\n",
       "  </thead>\n",
       "  <tbody>\n",
       "    <tr>\n",
       "      <th>0</th>\n",
       "      <td>2</td>\n",
       "      <td>1</td>\n",
       "      <td>2</td>\n",
       "      <td>0002-ORFBO</td>\n",
       "      <td>Female</td>\n",
       "      <td>0</td>\n",
       "      <td>Yes</td>\n",
       "      <td>Yes</td>\n",
       "      <td>9</td>\n",
       "      <td>Yes</td>\n",
       "      <td>...</td>\n",
       "      <td>Yes</td>\n",
       "      <td>Yes</td>\n",
       "      <td>No</td>\n",
       "      <td>Yes</td>\n",
       "      <td>65.6</td>\n",
       "      <td>593.3</td>\n",
       "      <td>No</td>\n",
       "      <td>One year</td>\n",
       "      <td>DSL</td>\n",
       "      <td>Mailed check</td>\n",
       "    </tr>\n",
       "    <tr>\n",
       "      <th>1</th>\n",
       "      <td>2</td>\n",
       "      <td>1</td>\n",
       "      <td>1</td>\n",
       "      <td>0003-MKNFE</td>\n",
       "      <td>Male</td>\n",
       "      <td>0</td>\n",
       "      <td>No</td>\n",
       "      <td>No</td>\n",
       "      <td>9</td>\n",
       "      <td>Yes</td>\n",
       "      <td>...</td>\n",
       "      <td>No</td>\n",
       "      <td>No</td>\n",
       "      <td>Yes</td>\n",
       "      <td>No</td>\n",
       "      <td>59.9</td>\n",
       "      <td>542.4</td>\n",
       "      <td>No</td>\n",
       "      <td>Month-to-month</td>\n",
       "      <td>DSL</td>\n",
       "      <td>Mailed check</td>\n",
       "    </tr>\n",
       "    <tr>\n",
       "      <th>2</th>\n",
       "      <td>1</td>\n",
       "      <td>2</td>\n",
       "      <td>1</td>\n",
       "      <td>0004-TLHLJ</td>\n",
       "      <td>Male</td>\n",
       "      <td>0</td>\n",
       "      <td>No</td>\n",
       "      <td>No</td>\n",
       "      <td>4</td>\n",
       "      <td>Yes</td>\n",
       "      <td>...</td>\n",
       "      <td>No</td>\n",
       "      <td>No</td>\n",
       "      <td>No</td>\n",
       "      <td>Yes</td>\n",
       "      <td>73.9</td>\n",
       "      <td>280.85</td>\n",
       "      <td>Yes</td>\n",
       "      <td>Month-to-month</td>\n",
       "      <td>Fiber optic</td>\n",
       "      <td>Electronic check</td>\n",
       "    </tr>\n",
       "    <tr>\n",
       "      <th>3</th>\n",
       "      <td>1</td>\n",
       "      <td>2</td>\n",
       "      <td>1</td>\n",
       "      <td>0011-IGKFF</td>\n",
       "      <td>Male</td>\n",
       "      <td>1</td>\n",
       "      <td>Yes</td>\n",
       "      <td>No</td>\n",
       "      <td>13</td>\n",
       "      <td>Yes</td>\n",
       "      <td>...</td>\n",
       "      <td>No</td>\n",
       "      <td>Yes</td>\n",
       "      <td>Yes</td>\n",
       "      <td>Yes</td>\n",
       "      <td>98.0</td>\n",
       "      <td>1237.85</td>\n",
       "      <td>Yes</td>\n",
       "      <td>Month-to-month</td>\n",
       "      <td>Fiber optic</td>\n",
       "      <td>Electronic check</td>\n",
       "    </tr>\n",
       "    <tr>\n",
       "      <th>4</th>\n",
       "      <td>2</td>\n",
       "      <td>2</td>\n",
       "      <td>1</td>\n",
       "      <td>0013-EXCHZ</td>\n",
       "      <td>Female</td>\n",
       "      <td>1</td>\n",
       "      <td>Yes</td>\n",
       "      <td>No</td>\n",
       "      <td>3</td>\n",
       "      <td>Yes</td>\n",
       "      <td>...</td>\n",
       "      <td>Yes</td>\n",
       "      <td>Yes</td>\n",
       "      <td>No</td>\n",
       "      <td>Yes</td>\n",
       "      <td>83.9</td>\n",
       "      <td>267.4</td>\n",
       "      <td>Yes</td>\n",
       "      <td>Month-to-month</td>\n",
       "      <td>Fiber optic</td>\n",
       "      <td>Mailed check</td>\n",
       "    </tr>\n",
       "  </tbody>\n",
       "</table>\n",
       "<p>5 rows × 24 columns</p>\n",
       "</div>"
      ],
      "text/plain": [
       "   payment_type_id  internet_service_type_id  contract_type_id customer_id  \\\n",
       "0                2                         1                 2  0002-ORFBO   \n",
       "1                2                         1                 1  0003-MKNFE   \n",
       "2                1                         2                 1  0004-TLHLJ   \n",
       "3                1                         2                 1  0011-IGKFF   \n",
       "4                2                         2                 1  0013-EXCHZ   \n",
       "\n",
       "   gender  senior_citizen partner dependents  tenure phone_service  ...  \\\n",
       "0  Female               0     Yes        Yes       9           Yes  ...   \n",
       "1    Male               0      No         No       9           Yes  ...   \n",
       "2    Male               0      No         No       4           Yes  ...   \n",
       "3    Male               1     Yes         No      13           Yes  ...   \n",
       "4  Female               1     Yes         No       3           Yes  ...   \n",
       "\n",
       "  tech_support streaming_tv streaming_movies paperless_billing  \\\n",
       "0          Yes          Yes               No               Yes   \n",
       "1           No           No              Yes                No   \n",
       "2           No           No               No               Yes   \n",
       "3           No          Yes              Yes               Yes   \n",
       "4          Yes          Yes               No               Yes   \n",
       "\n",
       "  monthly_charges total_charges churn   contract_type  internet_service_type  \\\n",
       "0            65.6         593.3    No        One year                    DSL   \n",
       "1            59.9         542.4    No  Month-to-month                    DSL   \n",
       "2            73.9        280.85   Yes  Month-to-month            Fiber optic   \n",
       "3            98.0       1237.85   Yes  Month-to-month            Fiber optic   \n",
       "4            83.9         267.4   Yes  Month-to-month            Fiber optic   \n",
       "\n",
       "       payment_type  \n",
       "0      Mailed check  \n",
       "1      Mailed check  \n",
       "2  Electronic check  \n",
       "3  Electronic check  \n",
       "4      Mailed check  \n",
       "\n",
       "[5 rows x 24 columns]"
      ]
     },
     "execution_count": 2,
     "metadata": {},
     "output_type": "execute_result"
    }
   ],
   "source": [
    "telco = w.get_telco_data()\n",
    "\n",
    "telco.head()"
   ]
  },
  {
   "cell_type": "code",
   "execution_count": 3,
   "id": "e6080c33",
   "metadata": {},
   "outputs": [
    {
     "data": {
      "image/png": "[encoded data removed]",
      "text/plain": [
       "<Figure size 640x480 with 1 Axes>"
      ]
     },
     "metadata": {},
     "output_type": "display_data"
    }
   ],
   "source": [
    "pct = pd.crosstab(telco.internet_service_type, telco.churn)\n",
    "pct.plot.bar()\n",
    "plt.show()"
   ]
  },
  {
   "cell_type": "code",
   "execution_count": 4,
   "id": "06526cc3",
   "metadata": {},
   "outputs": [
    {
     "data": {
      "text/html": [
       "<div>\n",
       "<style scoped>\n",
       "    .dataframe tbody tr th:only-of-type {\n",
       "        vertical-align: middle;\n",
       "    }\n",
       "\n",
       "    .dataframe tbody tr th {\n",
       "        vertical-align: top;\n",
       "    }\n",
       "\n",
       "    .dataframe thead th {\n",
       "        text-align: right;\n",
       "    }\n",
       "</style>\n",
       "<table border=\"1\" class=\"dataframe\">\n",
       "  <thead>\n",
       "    <tr style=\"text-align: right;\">\n",
       "      <th>churn</th>\n",
       "      <th>No</th>\n",
       "      <th>Yes</th>\n",
       "      <th>All</th>\n",
       "    </tr>\n",
       "    <tr>\n",
       "      <th>internet_service_type</th>\n",
       "      <th></th>\n",
       "      <th></th>\n",
       "      <th></th>\n",
       "    </tr>\n",
       "  </thead>\n",
       "  <tbody>\n",
       "    <tr>\n",
       "      <th>DSL</th>\n",
       "      <td>1962</td>\n",
       "      <td>459</td>\n",
       "      <td>2421</td>\n",
       "    </tr>\n",
       "    <tr>\n",
       "      <th>Fiber optic</th>\n",
       "      <td>1799</td>\n",
       "      <td>1297</td>\n",
       "      <td>3096</td>\n",
       "    </tr>\n",
       "    <tr>\n",
       "      <th>None</th>\n",
       "      <td>1413</td>\n",
       "      <td>113</td>\n",
       "      <td>1526</td>\n",
       "    </tr>\n",
       "    <tr>\n",
       "      <th>All</th>\n",
       "      <td>5174</td>\n",
       "      <td>1869</td>\n",
       "      <td>7043</td>\n",
       "    </tr>\n",
       "  </tbody>\n",
       "</table>\n",
       "</div>"
      ],
      "text/plain": [
       "churn                    No   Yes   All\n",
       "internet_service_type                  \n",
       "DSL                    1962   459  2421\n",
       "Fiber optic            1799  1297  3096\n",
       "None                   1413   113  1526\n",
       "All                    5174  1869  7043"
      ]
     },
     "execution_count": 4,
     "metadata": {},
     "output_type": "execute_result"
    }
   ],
   "source": [
    "pd.crosstab(telco.internet_service_type, telco.churn, margins=True)"
   ]
  },
  {
   "cell_type": "markdown",
   "id": "5a60c739",
   "metadata": {},
   "source": [
    "Of those that don't have internet, 113 out of 1526 churn (7.4% within group, 1.6% of total customers).\n",
    "\n",
    "Of those that do have internet, 1756 out of 5517 churn (31.83% within group, 24.93% of total customers).\n",
    "\n",
    "**I will isolate the dataset to only contain those who have internet, and predict their churn.**"
   ]
  },
  {
   "cell_type": "markdown",
   "id": "3b97edc7",
   "metadata": {},
   "source": [
    "Next, we'll run our data through a function that will handle null values and format the data for easy exploration and modeling."
   ]
  },
  {
   "cell_type": "code",
   "execution_count": 5,
   "id": "a02d3ad2",
   "metadata": {},
   "outputs": [
    {
     "data": {
      "text/html": [
       "<div>\n",
       "<style scoped>\n",
       "    .dataframe tbody tr th:only-of-type {\n",
       "        vertical-align: middle;\n",
       "    }\n",
       "\n",
       "    .dataframe tbody tr th {\n",
       "        vertical-align: top;\n",
       "    }\n",
       "\n",
       "    .dataframe thead th {\n",
       "        text-align: right;\n",
       "    }\n",
       "</style>\n",
       "<table border=\"1\" class=\"dataframe\">\n",
       "  <thead>\n",
       "    <tr style=\"text-align: right;\">\n",
       "      <th></th>\n",
       "      <th>gender</th>\n",
       "      <th>senior_citizen</th>\n",
       "      <th>partner</th>\n",
       "      <th>dependents</th>\n",
       "      <th>tenure</th>\n",
       "      <th>phone_service</th>\n",
       "      <th>multiple_lines</th>\n",
       "      <th>online_security</th>\n",
       "      <th>online_backup</th>\n",
       "      <th>device_protection</th>\n",
       "      <th>...</th>\n",
       "      <th>payment_type</th>\n",
       "      <th>gender_Male</th>\n",
       "      <th>multiple_lines_1</th>\n",
       "      <th>multiple_lines_No phone service</th>\n",
       "      <th>contract_type_One year</th>\n",
       "      <th>contract_type_Two year</th>\n",
       "      <th>internet_service_type_Fiber optic</th>\n",
       "      <th>payment_type_Credit card (automatic)</th>\n",
       "      <th>payment_type_Electronic check</th>\n",
       "      <th>payment_type_Mailed check</th>\n",
       "    </tr>\n",
       "    <tr>\n",
       "      <th>customer_id</th>\n",
       "      <th></th>\n",
       "      <th></th>\n",
       "      <th></th>\n",
       "      <th></th>\n",
       "      <th></th>\n",
       "      <th></th>\n",
       "      <th></th>\n",
       "      <th></th>\n",
       "      <th></th>\n",
       "      <th></th>\n",
       "      <th></th>\n",
       "      <th></th>\n",
       "      <th></th>\n",
       "      <th></th>\n",
       "      <th></th>\n",
       "      <th></th>\n",
       "      <th></th>\n",
       "      <th></th>\n",
       "      <th></th>\n",
       "      <th></th>\n",
       "      <th></th>\n",
       "    </tr>\n",
       "  </thead>\n",
       "  <tbody>\n",
       "    <tr>\n",
       "      <th>0002-ORFBO</th>\n",
       "      <td>Female</td>\n",
       "      <td>0</td>\n",
       "      <td>1</td>\n",
       "      <td>1</td>\n",
       "      <td>9</td>\n",
       "      <td>1</td>\n",
       "      <td>0</td>\n",
       "      <td>0</td>\n",
       "      <td>1</td>\n",
       "      <td>0</td>\n",
       "      <td>...</td>\n",
       "      <td>Mailed check</td>\n",
       "      <td>0</td>\n",
       "      <td>0</td>\n",
       "      <td>0</td>\n",
       "      <td>1</td>\n",
       "      <td>0</td>\n",
       "      <td>0</td>\n",
       "      <td>0</td>\n",
       "      <td>0</td>\n",
       "      <td>1</td>\n",
       "    </tr>\n",
       "    <tr>\n",
       "      <th>0003-MKNFE</th>\n",
       "      <td>Male</td>\n",
       "      <td>0</td>\n",
       "      <td>0</td>\n",
       "      <td>0</td>\n",
       "      <td>9</td>\n",
       "      <td>1</td>\n",
       "      <td>1</td>\n",
       "      <td>0</td>\n",
       "      <td>0</td>\n",
       "      <td>0</td>\n",
       "      <td>...</td>\n",
       "      <td>Mailed check</td>\n",
       "      <td>1</td>\n",
       "      <td>1</td>\n",
       "      <td>0</td>\n",
       "      <td>0</td>\n",
       "      <td>0</td>\n",
       "      <td>0</td>\n",
       "      <td>0</td>\n",
       "      <td>0</td>\n",
       "      <td>1</td>\n",
       "    </tr>\n",
       "    <tr>\n",
       "      <th>0004-TLHLJ</th>\n",
       "      <td>Male</td>\n",
       "      <td>0</td>\n",
       "      <td>0</td>\n",
       "      <td>0</td>\n",
       "      <td>4</td>\n",
       "      <td>1</td>\n",
       "      <td>0</td>\n",
       "      <td>0</td>\n",
       "      <td>0</td>\n",
       "      <td>1</td>\n",
       "      <td>...</td>\n",
       "      <td>Electronic check</td>\n",
       "      <td>1</td>\n",
       "      <td>0</td>\n",
       "      <td>0</td>\n",
       "      <td>0</td>\n",
       "      <td>0</td>\n",
       "      <td>1</td>\n",
       "      <td>0</td>\n",
       "      <td>1</td>\n",
       "      <td>0</td>\n",
       "    </tr>\n",
       "    <tr>\n",
       "      <th>0011-IGKFF</th>\n",
       "      <td>Male</td>\n",
       "      <td>1</td>\n",
       "      <td>1</td>\n",
       "      <td>0</td>\n",
       "      <td>13</td>\n",
       "      <td>1</td>\n",
       "      <td>0</td>\n",
       "      <td>0</td>\n",
       "      <td>1</td>\n",
       "      <td>1</td>\n",
       "      <td>...</td>\n",
       "      <td>Electronic check</td>\n",
       "      <td>1</td>\n",
       "      <td>0</td>\n",
       "      <td>0</td>\n",
       "      <td>0</td>\n",
       "      <td>0</td>\n",
       "      <td>1</td>\n",
       "      <td>0</td>\n",
       "      <td>1</td>\n",
       "      <td>0</td>\n",
       "    </tr>\n",
       "    <tr>\n",
       "      <th>0013-EXCHZ</th>\n",
       "      <td>Female</td>\n",
       "      <td>1</td>\n",
       "      <td>1</td>\n",
       "      <td>0</td>\n",
       "      <td>3</td>\n",
       "      <td>1</td>\n",
       "      <td>0</td>\n",
       "      <td>0</td>\n",
       "      <td>0</td>\n",
       "      <td>0</td>\n",
       "      <td>...</td>\n",
       "      <td>Mailed check</td>\n",
       "      <td>0</td>\n",
       "      <td>0</td>\n",
       "      <td>0</td>\n",
       "      <td>0</td>\n",
       "      <td>0</td>\n",
       "      <td>1</td>\n",
       "      <td>0</td>\n",
       "      <td>0</td>\n",
       "      <td>1</td>\n",
       "    </tr>\n",
       "  </tbody>\n",
       "</table>\n",
       "<p>5 rows × 29 columns</p>\n",
       "</div>"
      ],
      "text/plain": [
       "             gender  senior_citizen  partner  dependents  tenure  \\\n",
       "customer_id                                                        \n",
       "0002-ORFBO   Female               0        1           1       9   \n",
       "0003-MKNFE     Male               0        0           0       9   \n",
       "0004-TLHLJ     Male               0        0           0       4   \n",
       "0011-IGKFF     Male               1        1           0      13   \n",
       "0013-EXCHZ   Female               1        1           0       3   \n",
       "\n",
       "             phone_service multiple_lines  online_security  online_backup  \\\n",
       "customer_id                                                                 \n",
       "0002-ORFBO               1              0                0              1   \n",
       "0003-MKNFE               1              1                0              0   \n",
       "0004-TLHLJ               1              0                0              0   \n",
       "0011-IGKFF               1              0                0              1   \n",
       "0013-EXCHZ               1              0                0              0   \n",
       "\n",
       "             device_protection  ...      payment_type  gender_Male  \\\n",
       "customer_id                     ...                                  \n",
       "0002-ORFBO                   0  ...      Mailed check            0   \n",
       "0003-MKNFE                   0  ...      Mailed check            1   \n",
       "0004-TLHLJ                   1  ...  Electronic check            1   \n",
       "0011-IGKFF                   1  ...  Electronic check            1   \n",
       "0013-EXCHZ                   0  ...      Mailed check            0   \n",
       "\n",
       "             multiple_lines_1  multiple_lines_No phone service  \\\n",
       "customer_id                                                      \n",
       "0002-ORFBO                  0                                0   \n",
       "0003-MKNFE                  1                                0   \n",
       "0004-TLHLJ                  0                                0   \n",
       "0011-IGKFF                  0                                0   \n",
       "0013-EXCHZ                  0                                0   \n",
       "\n",
       "             contract_type_One year  contract_type_Two year  \\\n",
       "customer_id                                                   \n",
       "0002-ORFBO                        1                       0   \n",
       "0003-MKNFE                        0                       0   \n",
       "0004-TLHLJ                        0                       0   \n",
       "0011-IGKFF                        0                       0   \n",
       "0013-EXCHZ                        0                       0   \n",
       "\n",
       "             internet_service_type_Fiber optic  \\\n",
       "customer_id                                      \n",
       "0002-ORFBO                                   0   \n",
       "0003-MKNFE                                   0   \n",
       "0004-TLHLJ                                   1   \n",
       "0011-IGKFF                                   1   \n",
       "0013-EXCHZ                                   1   \n",
       "\n",
       "            payment_type_Credit card (automatic)  \\\n",
       "customer_id                                        \n",
       "0002-ORFBO                                     0   \n",
       "0003-MKNFE                                     0   \n",
       "0004-TLHLJ                                     0   \n",
       "0011-IGKFF                                     0   \n",
       "0013-EXCHZ                                     0   \n",
       "\n",
       "            payment_type_Electronic check payment_type_Mailed check  \n",
       "customer_id                                                          \n",
       "0002-ORFBO                              0                         1  \n",
       "0003-MKNFE                              0                         1  \n",
       "0004-TLHLJ                              1                         0  \n",
       "0011-IGKFF                              1                         0  \n",
       "0013-EXCHZ                              0                         1  \n",
       "\n",
       "[5 rows x 29 columns]"
      ]
     },
     "execution_count": 5,
     "metadata": {},
     "output_type": "execute_result"
    }
   ],
   "source": [
    "telco = w.prep_telco(telco) \n",
    "\n",
    "# total_charges had 'sneaky' nulls (a space saved as a string), which were replaced with 0s and converted to dtype float.\n",
    "\n",
    "telco.head()"
   ]
  },
  {
   "cell_type": "markdown",
   "id": "8844fe32",
   "metadata": {},
   "source": [
    "Finally, we'll split the data into a train, validate, and test set, and continue our exploration, hypothesis testing, and modeling on the training dataset alone."
   ]
  },
  {
   "cell_type": "code",
   "execution_count": 6,
   "id": "dc43594e",
   "metadata": {},
   "outputs": [
    {
     "data": {
      "text/html": [
       "<div>\n",
       "<style scoped>\n",
       "    .dataframe tbody tr th:only-of-type {\n",
       "        vertical-align: middle;\n",
       "    }\n",
       "\n",
       "    .dataframe tbody tr th {\n",
       "        vertical-align: top;\n",
       "    }\n",
       "\n",
       "    .dataframe thead th {\n",
       "        text-align: right;\n",
       "    }\n",
       "</style>\n",
       "<table border=\"1\" class=\"dataframe\">\n",
       "  <thead>\n",
       "    <tr style=\"text-align: right;\">\n",
       "      <th></th>\n",
       "      <th>gender</th>\n",
       "      <th>senior_citizen</th>\n",
       "      <th>partner</th>\n",
       "      <th>dependents</th>\n",
       "      <th>tenure</th>\n",
       "      <th>phone_service</th>\n",
       "      <th>multiple_lines</th>\n",
       "      <th>online_security</th>\n",
       "      <th>online_backup</th>\n",
       "      <th>device_protection</th>\n",
       "      <th>...</th>\n",
       "      <th>payment_type</th>\n",
       "      <th>gender_Male</th>\n",
       "      <th>multiple_lines_1</th>\n",
       "      <th>multiple_lines_No phone service</th>\n",
       "      <th>contract_type_One year</th>\n",
       "      <th>contract_type_Two year</th>\n",
       "      <th>internet_service_type_Fiber optic</th>\n",
       "      <th>payment_type_Credit card (automatic)</th>\n",
       "      <th>payment_type_Electronic check</th>\n",
       "      <th>payment_type_Mailed check</th>\n",
       "    </tr>\n",
       "    <tr>\n",
       "      <th>customer_id</th>\n",
       "      <th></th>\n",
       "      <th></th>\n",
       "      <th></th>\n",
       "      <th></th>\n",
       "      <th></th>\n",
       "      <th></th>\n",
       "      <th></th>\n",
       "      <th></th>\n",
       "      <th></th>\n",
       "      <th></th>\n",
       "      <th></th>\n",
       "      <th></th>\n",
       "      <th></th>\n",
       "      <th></th>\n",
       "      <th></th>\n",
       "      <th></th>\n",
       "      <th></th>\n",
       "      <th></th>\n",
       "      <th></th>\n",
       "      <th></th>\n",
       "      <th></th>\n",
       "    </tr>\n",
       "  </thead>\n",
       "  <tbody>\n",
       "    <tr>\n",
       "      <th>3474-BAFSJ</th>\n",
       "      <td>Male</td>\n",
       "      <td>0</td>\n",
       "      <td>1</td>\n",
       "      <td>0</td>\n",
       "      <td>57</td>\n",
       "      <td>0</td>\n",
       "      <td>No phone service</td>\n",
       "      <td>0</td>\n",
       "      <td>1</td>\n",
       "      <td>1</td>\n",
       "      <td>...</td>\n",
       "      <td>Bank transfer (automatic)</td>\n",
       "      <td>1</td>\n",
       "      <td>0</td>\n",
       "      <td>1</td>\n",
       "      <td>0</td>\n",
       "      <td>1</td>\n",
       "      <td>0</td>\n",
       "      <td>0</td>\n",
       "      <td>0</td>\n",
       "      <td>0</td>\n",
       "    </tr>\n",
       "    <tr>\n",
       "      <th>6599-RCLCJ</th>\n",
       "      <td>Male</td>\n",
       "      <td>0</td>\n",
       "      <td>1</td>\n",
       "      <td>0</td>\n",
       "      <td>47</td>\n",
       "      <td>1</td>\n",
       "      <td>1</td>\n",
       "      <td>0</td>\n",
       "      <td>1</td>\n",
       "      <td>1</td>\n",
       "      <td>...</td>\n",
       "      <td>Electronic check</td>\n",
       "      <td>1</td>\n",
       "      <td>1</td>\n",
       "      <td>0</td>\n",
       "      <td>0</td>\n",
       "      <td>0</td>\n",
       "      <td>1</td>\n",
       "      <td>0</td>\n",
       "      <td>1</td>\n",
       "      <td>0</td>\n",
       "    </tr>\n",
       "    <tr>\n",
       "      <th>4631-OACRM</th>\n",
       "      <td>Male</td>\n",
       "      <td>1</td>\n",
       "      <td>0</td>\n",
       "      <td>0</td>\n",
       "      <td>15</td>\n",
       "      <td>1</td>\n",
       "      <td>0</td>\n",
       "      <td>0</td>\n",
       "      <td>0</td>\n",
       "      <td>0</td>\n",
       "      <td>...</td>\n",
       "      <td>Electronic check</td>\n",
       "      <td>1</td>\n",
       "      <td>0</td>\n",
       "      <td>0</td>\n",
       "      <td>0</td>\n",
       "      <td>0</td>\n",
       "      <td>1</td>\n",
       "      <td>0</td>\n",
       "      <td>1</td>\n",
       "      <td>0</td>\n",
       "    </tr>\n",
       "    <tr>\n",
       "      <th>2867-UIMSS</th>\n",
       "      <td>Male</td>\n",
       "      <td>0</td>\n",
       "      <td>0</td>\n",
       "      <td>0</td>\n",
       "      <td>1</td>\n",
       "      <td>1</td>\n",
       "      <td>0</td>\n",
       "      <td>0</td>\n",
       "      <td>0</td>\n",
       "      <td>0</td>\n",
       "      <td>...</td>\n",
       "      <td>Electronic check</td>\n",
       "      <td>1</td>\n",
       "      <td>0</td>\n",
       "      <td>0</td>\n",
       "      <td>0</td>\n",
       "      <td>0</td>\n",
       "      <td>1</td>\n",
       "      <td>0</td>\n",
       "      <td>1</td>\n",
       "      <td>0</td>\n",
       "    </tr>\n",
       "    <tr>\n",
       "      <th>9842-EFSYY</th>\n",
       "      <td>Female</td>\n",
       "      <td>0</td>\n",
       "      <td>0</td>\n",
       "      <td>1</td>\n",
       "      <td>4</td>\n",
       "      <td>0</td>\n",
       "      <td>No phone service</td>\n",
       "      <td>1</td>\n",
       "      <td>1</td>\n",
       "      <td>1</td>\n",
       "      <td>...</td>\n",
       "      <td>Mailed check</td>\n",
       "      <td>0</td>\n",
       "      <td>0</td>\n",
       "      <td>1</td>\n",
       "      <td>0</td>\n",
       "      <td>0</td>\n",
       "      <td>0</td>\n",
       "      <td>0</td>\n",
       "      <td>0</td>\n",
       "      <td>1</td>\n",
       "    </tr>\n",
       "  </tbody>\n",
       "</table>\n",
       "<p>5 rows × 29 columns</p>\n",
       "</div>"
      ],
      "text/plain": [
       "             gender  senior_citizen  partner  dependents  tenure  \\\n",
       "customer_id                                                        \n",
       "3474-BAFSJ     Male               0        1           0      57   \n",
       "6599-RCLCJ     Male               0        1           0      47   \n",
       "4631-OACRM     Male               1        0           0      15   \n",
       "2867-UIMSS     Male               0        0           0       1   \n",
       "9842-EFSYY   Female               0        0           1       4   \n",
       "\n",
       "             phone_service    multiple_lines  online_security  online_backup  \\\n",
       "customer_id                                                                    \n",
       "3474-BAFSJ               0  No phone service                0              1   \n",
       "6599-RCLCJ               1                 1                0              1   \n",
       "4631-OACRM               1                 0                0              0   \n",
       "2867-UIMSS               1                 0                0              0   \n",
       "9842-EFSYY               0  No phone service                1              1   \n",
       "\n",
       "             device_protection  ...               payment_type  gender_Male  \\\n",
       "customer_id                     ...                                           \n",
       "3474-BAFSJ                   1  ...  Bank transfer (automatic)            1   \n",
       "6599-RCLCJ                   1  ...           Electronic check            1   \n",
       "4631-OACRM                   0  ...           Electronic check            1   \n",
       "2867-UIMSS                   0  ...           Electronic check            1   \n",
       "9842-EFSYY                   1  ...               Mailed check            0   \n",
       "\n",
       "             multiple_lines_1  multiple_lines_No phone service  \\\n",
       "customer_id                                                      \n",
       "3474-BAFSJ                  0                                1   \n",
       "6599-RCLCJ                  1                                0   \n",
       "4631-OACRM                  0                                0   \n",
       "2867-UIMSS                  0                                0   \n",
       "9842-EFSYY                  0                                1   \n",
       "\n",
       "             contract_type_One year  contract_type_Two year  \\\n",
       "customer_id                                                   \n",
       "3474-BAFSJ                        0                       1   \n",
       "6599-RCLCJ                        0                       0   \n",
       "4631-OACRM                        0                       0   \n",
       "2867-UIMSS                        0                       0   \n",
       "9842-EFSYY                        0                       0   \n",
       "\n",
       "             internet_service_type_Fiber optic  \\\n",
       "customer_id                                      \n",
       "3474-BAFSJ                                   0   \n",
       "6599-RCLCJ                                   1   \n",
       "4631-OACRM                                   1   \n",
       "2867-UIMSS                                   1   \n",
       "9842-EFSYY                                   0   \n",
       "\n",
       "            payment_type_Credit card (automatic)  \\\n",
       "customer_id                                        \n",
       "3474-BAFSJ                                     0   \n",
       "6599-RCLCJ                                     0   \n",
       "4631-OACRM                                     0   \n",
       "2867-UIMSS                                     0   \n",
       "9842-EFSYY                                     0   \n",
       "\n",
       "            payment_type_Electronic check payment_type_Mailed check  \n",
       "customer_id                                                          \n",
       "3474-BAFSJ                              0                         0  \n",
       "6599-RCLCJ                              1                         0  \n",
       "4631-OACRM                              1                         0  \n",
       "2867-UIMSS                              1                         0  \n",
       "9842-EFSYY                              0                         1  \n",
       "\n",
       "[5 rows x 29 columns]"
      ]
     },
     "execution_count": 6,
     "metadata": {},
     "output_type": "execute_result"
    }
   ],
   "source": [
    "train_telco, validate_telco, test_telco = w.split_data(telco, 'churn')\n",
    "\n",
    "train_telco.head()"
   ]
  },
  {
   "cell_type": "markdown",
   "id": "2c0d2dd1",
   "metadata": {},
   "source": [
    "# Data Exploration"
   ]
  },
  {
   "cell_type": "markdown",
   "id": "2cf96338",
   "metadata": {},
   "source": [
    "We will look at the following variables:\n",
    "\n",
    "- tenure\n",
    "- monthly_charges\n",
    "- online_security\n",
    "- tech_support\n",
    "- contract_type\n",
    "- payment_type\n",
    "\n",
    "1) Does tenure affect whether a customer will churn?"
   ]
  },
  {
   "cell_type": "code",
   "execution_count": 8,
   "id": "c5aa541a",
   "metadata": {},
   "outputs": [
    {
     "name": "stdout",
     "output_type": "stream",
     "text": [
      "TENURE\n"
     ]
    },
    {
     "data": {
      "image/png": "[encoded data removed]",
      "text/plain": [
       "<Figure size 640x480 with 1 Axes>"
      ]
     },
     "metadata": {},
     "output_type": "display_data"
    },
    {
     "name": "stdout",
     "output_type": "stream",
     "text": [
      "\n",
      "Stats results for tenure vs churn:\n",
      "\n",
      "Stat value: 1782203.0\n",
      "P-value: 4.214882008010433e-119\n",
      "\n"
     ]
    }
   ],
   "source": [
    "em.get_variable_viz(train_telco, 'tenure')"
   ]
  },
  {
   "cell_type": "code",
   "execution_count": 16,
   "id": "2daaccdd",
   "metadata": {},
   "outputs": [
    {
     "data": {
      "text/plain": [
       "10.0"
      ]
     },
     "execution_count": 16,
     "metadata": {},
     "output_type": "execute_result"
    }
   ],
   "source": [
    "telco[telco.churn == 1].tenure.median()"
   ]
  },
  {
   "cell_type": "markdown",
   "id": "8d1f0600",
   "metadata": {},
   "source": [
    "Yes, we can state that tenure affects whether a customer will churn. On average, 50% of customers that will churn will churn around the 12-month mark."
   ]
  },
  {
   "cell_type": "markdown",
   "id": "1df104cf",
   "metadata": {},
   "source": [
    "2) Do monthly_charges affect whether a customer will churn?"
   ]
  },
  {
   "cell_type": "code",
   "execution_count": 9,
   "id": "43b2c546",
   "metadata": {},
   "outputs": [
    {
     "name": "stdout",
     "output_type": "stream",
     "text": [
      "MONTHLY_CHARGES\n"
     ]
    },
    {
     "data": {
      "image/png": "[encoded data removed]",
      "text/plain": [
       "<Figure size 640x480 with 1 Axes>"
      ]
     },
     "metadata": {},
     "output_type": "display_data"
    },
    {
     "name": "stdout",
     "output_type": "stream",
     "text": [
      "\n",
      "Stats results for monthly_charges vs churn:\n",
      "\n",
      "Stat value: 1127920.5\n",
      "P-value: 0.018203216295552393\n",
      "\n"
     ]
    }
   ],
   "source": [
    "em.get_variable_viz(train_telco, 'monthly_charges')"
   ]
  },
  {
   "cell_type": "code",
   "execution_count": 10,
   "id": "dbc1e779",
   "metadata": {},
   "outputs": [
    {
     "data": {
      "text/plain": [
       "1.579453686043962"
      ]
     },
     "execution_count": 10,
     "metadata": {},
     "output_type": "execute_result"
    }
   ],
   "source": [
    "# To get average difference in how much people pay per month.\n",
    "\n",
    "(telco[telco.churn == 1].monthly_charges.mean() - telco[telco.churn == 0].monthly_charges.mean())"
   ]
  },
  {
   "cell_type": "markdown",
   "id": "1bff7a54",
   "metadata": {},
   "source": [
    "Even though p-value is smaller than usual $\\alpha$ = .05, I will drop this from my features. Note that on average, those who churn only pay $1.57 more per month. P-value must be small because of size of dataset."
   ]
  },
  {
   "cell_type": "markdown",
   "id": "5c292903",
   "metadata": {},
   "source": [
    "3) Does online_security affect whether a customer will churn?"
   ]
  },
  {
   "cell_type": "code",
   "execution_count": null,
   "id": "b9f80353",
   "metadata": {},
   "outputs": [],
   "source": [
    "3) Does online_security affect whether a customer will churn"
   ]
  },
  {
   "cell_type": "markdown",
   "id": "2230c72d",
   "metadata": {},
   "source": [
    "3) Does contract_type affect whether a customer will churn?"
   ]
  },
  {
   "cell_type": "code",
   "execution_count": 11,
   "id": "b651f76b",
   "metadata": {},
   "outputs": [
    {
     "name": "stdout",
     "output_type": "stream",
     "text": [
      "CONTRACT_TYPE\n"
     ]
    },
    {
     "data": {
      "image/png": "[encoded data removed]",
      "text/plain": [
       "<Figure size 640x480 with 1 Axes>"
      ]
     },
     "metadata": {},
     "output_type": "display_data"
    },
    {
     "name": "stdout",
     "output_type": "stream",
     "text": [
      "\n",
      "Stats results for contract_type vs churn:\n",
      "\n",
      "Chi^2 value: 483.4465626663888\n",
      "P-value: 1.04933164316652e-105\n",
      "\n"
     ]
    }
   ],
   "source": [
    "em.get_variable_viz(train_telco, 'contract_type')"
   ]
  },
  {
   "cell_type": "markdown",
   "id": "b2d924cb",
   "metadata": {},
   "source": [
    "Yes, we can state that contract type affects whether a customer will churn."
   ]
  },
  {
   "cell_type": "markdown",
   "id": "3d660bb4",
   "metadata": {},
   "source": [
    "4) Does internet_service_type affect whether a customer will churn?"
   ]
  },
  {
   "cell_type": "code",
   "execution_count": 12,
   "id": "cf370fe5",
   "metadata": {},
   "outputs": [
    {
     "name": "stdout",
     "output_type": "stream",
     "text": [
      "INTERNET_SERVICE_TYPE\n"
     ]
    },
    {
     "data": {
      "image/png": "[encoded data removed]",
      "text/plain": [
       "<Figure size 640x480 with 1 Axes>"
      ]
     },
     "metadata": {},
     "output_type": "display_data"
    },
    {
     "name": "stdout",
     "output_type": "stream",
     "text": [
      "\n",
      "Stats results for internet_service_type vs churn:\n",
      "\n",
      "Chi^2 value: 204.19087946711312\n",
      "P-value: 2.5429294769258776e-46\n",
      "\n"
     ]
    }
   ],
   "source": [
    "em.get_variable_viz(train_telco, 'internet_service_type')"
   ]
  },
  {
   "cell_type": "markdown",
   "id": "2e571a72",
   "metadata": {},
   "source": [
    "Yes, we can state that internet service type affects whether a customer will churn."
   ]
  },
  {
   "cell_type": "markdown",
   "id": "96c3e7df",
   "metadata": {},
   "source": [
    "# Key Findings"
   ]
  },
  {
   "cell_type": "markdown",
   "id": "666c38b4",
   "metadata": {},
   "source": [
    "- All four variables explored affect the likelihood of a customer churning: tenure, monthly charges, contract type, and internet service type.\n",
    "- The mean of tenure is 10 months for churned customers vs around 40 for those who don't churn.\n",
    "- Fiber optic internet service has a much higher ratio of churn:no_churn among other services.\n",
    "- Month-to-month contract type is most susceptible to churn.\n",
    "- Customers who churn pay, on average, around $\\$$15 more per month.\n",
    "- 7.40% of customers with no internet churn vs. 31.83% of customers with internet\n",
    "- Among those who have internet, customers who churn pay an average of $1.57 more than those who don't per month."
   ]
  },
  {
   "cell_type": "markdown",
   "id": "89dd0490",
   "metadata": {},
   "source": [
    "# Data Modeling"
   ]
  },
  {
   "cell_type": "markdown",
   "id": "2d1164f3",
   "metadata": {},
   "source": [
    "We'll run the features we identified to affect churn into different classification models."
   ]
  },
  {
   "cell_type": "markdown",
   "id": "d6d007c8",
   "metadata": {},
   "source": [
    "### Setting a baseline"
   ]
  },
  {
   "cell_type": "code",
   "execution_count": 9,
   "id": "d38b8846",
   "metadata": {},
   "outputs": [
    {
     "data": {
      "text/plain": [
       "0    3104\n",
       "1    1121\n",
       "Name: churn, dtype: int64"
      ]
     },
     "execution_count": 9,
     "metadata": {},
     "output_type": "execute_result"
    }
   ],
   "source": [
    "train_telco.churn.value_counts()"
   ]
  },
  {
   "cell_type": "markdown",
   "id": "82c4090e",
   "metadata": {},
   "source": [
    "Baseline accuracy to beat in our models is 3104/(3104+1121) = 73.48%"
   ]
  },
  {
   "cell_type": "markdown",
   "id": "4faa82b5",
   "metadata": {},
   "source": [
    "### Splitting our dataset into the features we need to send into our model."
   ]
  },
  {
   "cell_type": "code",
   "execution_count": 10,
   "id": "393514eb",
   "metadata": {},
   "outputs": [],
   "source": [
    "X_train = train_telco[['tenure', 'monthly_charges', 'contract_type_One year', 'contract_type_Two year', 'internet_service_type_Fiber optic', 'internet_service_type_None']]\n",
    "y_train = train_telco.churn\n",
    "\n",
    "X_validate = validate_telco[['tenure', 'monthly_charges', 'contract_type_One year', 'contract_type_Two year', 'internet_service_type_Fiber optic', 'internet_service_type_None']]\n",
    "y_validate = validate_telco.churn\n",
    "\n",
    "X_test = test_telco[['tenure', 'monthly_charges', 'contract_type_One year', 'contract_type_Two year', 'internet_service_type_Fiber optic', 'internet_service_type_None']]\n",
    "y_test = test_telco.churn"
   ]
  },
  {
   "cell_type": "markdown",
   "id": "7fcda116",
   "metadata": {},
   "source": [
    "## Performance Check across all Classification Models"
   ]
  },
  {
   "cell_type": "code",
   "execution_count": 11,
   "id": "62059bdf",
   "metadata": {},
   "outputs": [
    {
     "data": {
      "text/html": [
       "<div>\n",
       "<style scoped>\n",
       "    .dataframe tbody tr th:only-of-type {\n",
       "        vertical-align: middle;\n",
       "    }\n",
       "\n",
       "    .dataframe tbody tr th {\n",
       "        vertical-align: top;\n",
       "    }\n",
       "\n",
       "    .dataframe thead th {\n",
       "        text-align: right;\n",
       "    }\n",
       "</style>\n",
       "<table border=\"1\" class=\"dataframe\">\n",
       "  <thead>\n",
       "    <tr style=\"text-align: right;\">\n",
       "      <th></th>\n",
       "      <th>model</th>\n",
       "      <th>train</th>\n",
       "      <th>validate</th>\n",
       "      <th>hyper_value</th>\n",
       "      <th>difference</th>\n",
       "    </tr>\n",
       "  </thead>\n",
       "  <tbody>\n",
       "    <tr>\n",
       "      <th>0</th>\n",
       "      <td>Decision Tree</td>\n",
       "      <td>0.807574</td>\n",
       "      <td>0.793471</td>\n",
       "      <td>6</td>\n",
       "      <td>0.014103</td>\n",
       "    </tr>\n",
       "    <tr>\n",
       "      <th>1</th>\n",
       "      <td>Random Forest</td>\n",
       "      <td>0.801420</td>\n",
       "      <td>0.799148</td>\n",
       "      <td>6</td>\n",
       "      <td>0.002272</td>\n",
       "    </tr>\n",
       "    <tr>\n",
       "      <th>2</th>\n",
       "      <td>KNN</td>\n",
       "      <td>0.813964</td>\n",
       "      <td>0.781405</td>\n",
       "      <td>8</td>\n",
       "      <td>0.032559</td>\n",
       "    </tr>\n",
       "    <tr>\n",
       "      <th>3</th>\n",
       "      <td>Logistic Regression</td>\n",
       "      <td>0.783905</td>\n",
       "      <td>0.792761</td>\n",
       "      <td>10</td>\n",
       "      <td>-0.008855</td>\n",
       "    </tr>\n",
       "  </tbody>\n",
       "</table>\n",
       "</div>"
      ],
      "text/plain": [
       "                 model     train  validate  hyper_value  difference\n",
       "0        Decision Tree  0.807574  0.793471            6    0.014103\n",
       "1        Random Forest  0.801420  0.799148            6    0.002272\n",
       "2                  KNN  0.813964  0.781405            8    0.032559\n",
       "3  Logistic Regression  0.783905  0.792761           10   -0.008855"
      ]
     },
     "execution_count": 11,
     "metadata": {},
     "output_type": "execute_result"
    }
   ],
   "source": [
    "em.classification_models_performance(X_train, y_train, X_validate, y_validate)"
   ]
  },
  {
   "cell_type": "markdown",
   "id": "87b957c0",
   "metadata": {},
   "source": [
    "We'll go with Random Forest (depth=6) since it's least susceptible to overfit of data."
   ]
  },
  {
   "cell_type": "markdown",
   "id": "a4bd9e73",
   "metadata": {},
   "source": [
    "# Predictions"
   ]
  },
  {
   "cell_type": "markdown",
   "id": "55b3824c",
   "metadata": {},
   "source": [
    "Using our chosen model, we'll cast predictions as to whether a customer will churn on our X_test, y_test dataset.\n",
    "\n",
    "The results are saved in the predictions.csv file on the local directory."
   ]
  },
  {
   "cell_type": "code",
   "execution_count": 16,
   "id": "9f5b327a",
   "metadata": {},
   "outputs": [
    {
     "data": {
      "text/html": [
       "<div>\n",
       "<style scoped>\n",
       "    .dataframe tbody tr th:only-of-type {\n",
       "        vertical-align: middle;\n",
       "    }\n",
       "\n",
       "    .dataframe tbody tr th {\n",
       "        vertical-align: top;\n",
       "    }\n",
       "\n",
       "    .dataframe thead th {\n",
       "        text-align: right;\n",
       "    }\n",
       "</style>\n",
       "<table border=\"1\" class=\"dataframe\">\n",
       "  <thead>\n",
       "    <tr style=\"text-align: right;\">\n",
       "      <th></th>\n",
       "      <th>customer_id</th>\n",
       "      <th>prediction</th>\n",
       "      <th>churn_prob</th>\n",
       "    </tr>\n",
       "  </thead>\n",
       "  <tbody>\n",
       "    <tr>\n",
       "      <th>0</th>\n",
       "      <td>4531-AUZNK</td>\n",
       "      <td>0</td>\n",
       "      <td>0.196813</td>\n",
       "    </tr>\n",
       "    <tr>\n",
       "      <th>1</th>\n",
       "      <td>2296-DKZFP</td>\n",
       "      <td>0</td>\n",
       "      <td>0.055281</td>\n",
       "    </tr>\n",
       "    <tr>\n",
       "      <th>2</th>\n",
       "      <td>9692-TUSXH</td>\n",
       "      <td>0</td>\n",
       "      <td>0.499849</td>\n",
       "    </tr>\n",
       "    <tr>\n",
       "      <th>3</th>\n",
       "      <td>5129-JLPIS</td>\n",
       "      <td>1</td>\n",
       "      <td>0.515813</td>\n",
       "    </tr>\n",
       "    <tr>\n",
       "      <th>4</th>\n",
       "      <td>1273-MTETI</td>\n",
       "      <td>1</td>\n",
       "      <td>0.654022</td>\n",
       "    </tr>\n",
       "  </tbody>\n",
       "</table>\n",
       "</div>"
      ],
      "text/plain": [
       "  customer_id  prediction  churn_prob\n",
       "0  4531-AUZNK           0    0.196813\n",
       "1  2296-DKZFP           0    0.055281\n",
       "2  9692-TUSXH           0    0.499849\n",
       "3  5129-JLPIS           1    0.515813\n",
       "4  1273-MTETI           1    0.654022"
      ]
     },
     "execution_count": 16,
     "metadata": {},
     "output_type": "execute_result"
    }
   ],
   "source": [
    "rfc = RandomForestClassifier(max_depth=6, min_samples_leaf=5)\n",
    "\n",
    "rfc.fit(X_train, y_train)\n",
    "y_pred = rfc.predict(X_test)\n",
    "y_prob = rfc.predict_proba(X_test)\n",
    "\n",
    "predictions = pd.DataFrame({'customer_id': X_test.reset_index().customer_id, #reset_index since customer_id was set to index in prep\n",
    "             'prediction': y_pred,\n",
    "             'churn_prob': y_prob[:,1]})\n",
    "\n",
    "predictions.to_csv('predictions.csv', index=False) # Saving to csv.\n",
    "\n",
    "predictions.head() # Preview of csv file contents."
   ]
  },
  {
   "cell_type": "markdown",
   "id": "af90f2a6",
   "metadata": {},
   "source": [
    "# Key Findings, Takeaways, and Recommendations"
   ]
  },
  {
   "cell_type": "markdown",
   "id": "8e3c580f",
   "metadata": {},
   "source": [
    "- All four variables explored affect the likelihood of a customer churning: tenure, monthly charges, contract type, and internet service type.\n",
    "- We met our goal of predicting churn with 80% accuracy.\n",
    "\n",
    "\n",
    "Next steps:\n",
    "- We should look further into tech support as a likely factor.\n",
    "\n",
    "\n",
    "Some recommendations for Telco:\n",
    "- Invest in R&D for their Fiber Optic service.\n",
    "- Offer incentives to customers once they hit the 10-month mark."
   ]
  }
 ],
 "metadata": {
  "kernelspec": {
   "display_name": "Python 3 (ipykernel)",
   "language": "python",
   "name": "python3"
  },
  "language_info": {
   "codemirror_mode": {
    "name": "ipython",
    "version": 3
   },
   "file_extension": ".py",
   "mimetype": "text/x-python",
   "name": "python",
   "nbconvert_exporter": "python",
   "pygments_lexer": "ipython3",
   "version": "3.9.13"
  }
 },
 "nbformat": 4,
 "nbformat_minor": 5
}

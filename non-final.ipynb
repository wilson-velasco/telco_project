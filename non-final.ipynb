{
 "cells": [
  {
   "cell_type": "code",
   "execution_count": 1,
   "id": "f11c3d08",
   "metadata": {},
   "outputs": [],
   "source": [
    "from env import get_db_url "
   ]
  },
  {
   "cell_type": "code",
   "execution_count": 2,
   "id": "683afe4d",
   "metadata": {},
   "outputs": [],
   "source": [
    "import os"
   ]
  },
  {
   "cell_type": "code",
   "execution_count": 3,
   "id": "1b701640",
   "metadata": {},
   "outputs": [],
   "source": [
    "import pandas as pd"
   ]
  },
  {
   "cell_type": "code",
   "execution_count": 4,
   "id": "01755126",
   "metadata": {},
   "outputs": [],
   "source": [
    "import wrangle as w\n",
    "import explore_mod as em"
   ]
  },
  {
   "cell_type": "code",
   "execution_count": 5,
   "id": "54f1082c",
   "metadata": {},
   "outputs": [],
   "source": [
    "import scipy.stats as stats"
   ]
  },
  {
   "cell_type": "code",
   "execution_count": 6,
   "id": "cfca97e5",
   "metadata": {},
   "outputs": [],
   "source": [
    "telco = w.get_telco_data()"
   ]
  },
  {
   "cell_type": "code",
   "execution_count": 7,
   "id": "450748af",
   "metadata": {},
   "outputs": [],
   "source": [
    "telco = w.prep_telco(telco)"
   ]
  },
  {
   "cell_type": "code",
   "execution_count": null,
   "id": "6d8a69dd",
   "metadata": {},
   "outputs": [],
   "source": [
    "pd.crosstab(telco.internet_service_type, telco.churn)"
   ]
  },
  {
   "cell_type": "code",
   "execution_count": null,
   "id": "703ddc51",
   "metadata": {},
   "outputs": [],
   "source": [
    "len(telco)"
   ]
  },
  {
   "cell_type": "code",
   "execution_count": null,
   "id": "6dcb5096",
   "metadata": {},
   "outputs": [],
   "source": [
    "113/(1413+113)"
   ]
  },
  {
   "cell_type": "code",
   "execution_count": null,
   "id": "a16b5fce",
   "metadata": {},
   "outputs": [],
   "source": [
    "113/7043"
   ]
  },
  {
   "cell_type": "code",
   "execution_count": null,
   "id": "480f910f",
   "metadata": {},
   "outputs": [],
   "source": [
    "(1297+459)/(1297+459+1962+1799)"
   ]
  },
  {
   "cell_type": "code",
   "execution_count": 22,
   "id": "5c58122c",
   "metadata": {},
   "outputs": [
    {
     "data": {
      "text/plain": [
       "Electronic check             1343\n",
       "Bank transfer (automatic)     742\n",
       "Credit card (automatic)       701\n",
       "Mailed check                  523\n",
       "Name: payment_type, dtype: int64"
      ]
     },
     "execution_count": 22,
     "metadata": {},
     "output_type": "execute_result"
    }
   ],
   "source": [
    "train_telco.payment_type.value_counts()"
   ]
  },
  {
   "cell_type": "code",
   "execution_count": 24,
   "id": "bb7a7d8c",
   "metadata": {},
   "outputs": [],
   "source": [
    "import matplotlib.pyplot as plt"
   ]
  },
  {
   "cell_type": "code",
   "execution_count": 31,
   "id": "06e305aa",
   "metadata": {},
   "outputs": [
    {
     "data": {
      "image/png": "[encoded data removed]",
      "text/plain": [
       "<Figure size 640x480 with 1 Axes>"
      ]
     },
     "metadata": {},
     "output_type": "display_data"
    }
   ],
   "source": [
    "pct = pd.crosstab(train_telco.payment_type, train_telco.churn)\n",
    "pct.plot.bar()\n",
    "plt.show()"
   ]
  },
  {
   "cell_type": "code",
   "execution_count": 32,
   "id": "d98a36cf",
   "metadata": {},
   "outputs": [
    {
     "data": {
      "text/plain": [
       "(205.6280152258547,\n",
       " 1.2352526491206959e-46,\n",
       " 1,\n",
       " array([[1339.77938954,  626.22061046],\n",
       "        [ 915.22061046,  427.77938954]]))"
      ]
     },
     "execution_count": 32,
     "metadata": {},
     "output_type": "execute_result"
    }
   ],
   "source": [
    "stats.chi2_contingency(pct)"
   ]
  },
  {
   "cell_type": "code",
   "execution_count": 28,
   "id": "540ed086",
   "metadata": {},
   "outputs": [],
   "source": [
    "import numpy as np"
   ]
  },
  {
   "cell_type": "code",
   "execution_count": 30,
   "id": "262c4077",
   "metadata": {},
   "outputs": [],
   "source": [
    "train_telco.payment_type = np.where(train_telco.payment_type == ('Electronic check' or 'Mailed check'), 'Manual', 'Automatic')"
   ]
  },
  {
   "cell_type": "code",
   "execution_count": null,
   "id": "22d35cce",
   "metadata": {},
   "outputs": [],
   "source": [
    "((telco.online_security == 'No internet service') == (telco.online_backup == 'No internet service')).mean()\n",
    "\n"
   ]
  },
  {
   "cell_type": "code",
   "execution_count": null,
   "id": "94d1f8e4",
   "metadata": {},
   "outputs": [],
   "source": [
    "telco = telco[telco.online_backup != 'No internet service']"
   ]
  },
  {
   "cell_type": "code",
   "execution_count": null,
   "id": "53cf32a8",
   "metadata": {},
   "outputs": [],
   "source": [
    "import seaborn as sns"
   ]
  },
  {
   "cell_type": "code",
   "execution_count": null,
   "id": "6eb151ab",
   "metadata": {},
   "outputs": [],
   "source": [
    "telco.multiple_lines.value_counts()"
   ]
  },
  {
   "cell_type": "code",
   "execution_count": null,
   "id": "9cdc2e12",
   "metadata": {},
   "outputs": [],
   "source": [
    "telco.churn = telco.churn.replace([0,1], ['No', 'Yes'])\n",
    "sns.boxplot(data=telco, x='monthly_charges', y='churn')\n",
    "plt.show()"
   ]
  },
  {
   "cell_type": "code",
   "execution_count": null,
   "id": "6d67b7d2",
   "metadata": {},
   "outputs": [],
   "source": [
    "stats.mannwhitneyu(telco[telco.churn == 'No'].monthly_charges, telco[telco.churn == 'Yes'].monthly_charges)"
   ]
  },
  {
   "cell_type": "code",
   "execution_count": null,
   "id": "b7c232b2",
   "metadata": {},
   "outputs": [],
   "source": [
    "telco[telco.churn == 'Yes'].monthly_charges.mean() - telco[telco.churn == 'No'].monthly_charges.mean()"
   ]
  },
  {
   "cell_type": "code",
   "execution_count": null,
   "id": "75bbd442",
   "metadata": {},
   "outputs": [],
   "source": [
    "backup_churn = pd.crosstab(telco.online_backup, telco.churn)\n",
    "backup_churn"
   ]
  },
  {
   "cell_type": "code",
   "execution_count": null,
   "id": "975463d8",
   "metadata": {},
   "outputs": [],
   "source": [
    "stats.chi2_contingency(backup_churn)"
   ]
  },
  {
   "cell_type": "code",
   "execution_count": null,
   "id": "7821d409",
   "metadata": {},
   "outputs": [],
   "source": [
    "tech_churn = pd.crosstab(telco.tech_support, telco.churn)\n",
    "tech_churn"
   ]
  },
  {
   "cell_type": "code",
   "execution_count": null,
   "id": "1a78fc9d",
   "metadata": {},
   "outputs": [],
   "source": [
    "stats.chi2_contingency(tech_churn)"
   ]
  },
  {
   "cell_type": "code",
   "execution_count": null,
   "id": "2206d276",
   "metadata": {},
   "outputs": [],
   "source": [
    "dev_churn = pd.crosstab(telco.device_protection, telco.churn)\n",
    "dev_churn"
   ]
  },
  {
   "cell_type": "code",
   "execution_count": null,
   "id": "8cec0994",
   "metadata": {},
   "outputs": [],
   "source": [
    "stats.chi2_contingency(dev_churn)"
   ]
  },
  {
   "cell_type": "code",
   "execution_count": null,
   "id": "c09568ef",
   "metadata": {},
   "outputs": [],
   "source": [
    "telco.internet_service_type.value_counts()"
   ]
  },
  {
   "cell_type": "code",
   "execution_count": null,
   "id": "6238f7be",
   "metadata": {},
   "outputs": [],
   "source": [
    "int_churn = pd.crosstab(telco.internet_service_type, telco.churn)\n",
    "int_churn"
   ]
  },
  {
   "cell_type": "code",
   "execution_count": null,
   "id": "5a216cd7",
   "metadata": {},
   "outputs": [],
   "source": [
    "stats.chi2_contingency(int_churn)"
   ]
  },
  {
   "cell_type": "code",
   "execution_count": null,
   "id": "6f73e1f6",
   "metadata": {
    "scrolled": true
   },
   "outputs": [],
   "source": [
    "telco.churn.value_counts()"
   ]
  },
  {
   "cell_type": "code",
   "execution_count": null,
   "id": "acccab2f",
   "metadata": {},
   "outputs": [],
   "source": [
    "telco.tech_support.value_counts()"
   ]
  },
  {
   "cell_type": "code",
   "execution_count": null,
   "id": "5cdf4da5",
   "metadata": {},
   "outputs": [],
   "source": [
    "telco.info()"
   ]
  },
  {
   "cell_type": "code",
   "execution_count": null,
   "id": "b23c8e0b",
   "metadata": {},
   "outputs": [],
   "source": [
    "import matplotlib.pyplot as plt\n",
    "import numpy as np\n",
    "\n",
    "# Visualizations of individual variables on their own\n",
    "\n",
    "for col in telco.iloc[:,[4:]]:\n",
    "    if telco[col].dtype == 'O':\n",
    "        print(col.upper())\n",
    "        plt.hist(telco[col])\n",
    "        plt.show()\n",
    "        print()\n",
    "    else:\n",
    "        print(col.upper())\n",
    "        plt.hist(telco[col])\n",
    "        plt.show()\n",
    "        print()"
   ]
  },
  {
   "cell_type": "code",
   "execution_count": null,
   "id": "dada8499",
   "metadata": {},
   "outputs": [],
   "source": [
    "telco.info()"
   ]
  },
  {
   "cell_type": "code",
   "execution_count": null,
   "id": "eca69c54",
   "metadata": {},
   "outputs": [],
   "source": [
    "import seaborn as sns\n",
    "import matplotlib.pyplot as plt\n",
    "\n",
    "telco.senior_citizen = telco.senior_citizen.replace([0,1],['No','Yes'])\n",
    "telco.partner = telco.partner.replace([0,1],['No','Yes'])\n",
    "telco.dependents = telco.dependents.replace([0,1],['No','Yes'])\n",
    "telco.phone_service = telco.phone_service.replace([0,1],['No','Yes'])\n",
    "telco.paperless_billing = telco.paperless_billing.replace([0,1],['No','Yes'])\n",
    "\n",
    "for col in telco.iloc[:,0:20]:\n",
    "    if telco[col].dtype == 'O':\n",
    "        print(col.upper())\n",
    "        pct = pd.crosstab(telco[col], telco.churn)\n",
    "        pct.plot.bar()\n",
    "        plt.show()\n",
    "        print()\n",
    "        print(f'Stats results for {col} vs churn:')\n",
    "        print()\n",
    "        chi2, p, degf, expected = stats.chi2_contingency(pct)\n",
    "        print(f'Chi^2 value: {chi2}')\n",
    "        print(f'P-value: {p}')\n",
    "        print()\n",
    "    else:\n",
    "        print(col.upper())\n",
    "        sns.boxplot(data=telco, x=col, y='churn')\n",
    "        plt.show()\n",
    "        print()\n",
    "        print(f'Stats results for {col} vs churn:')\n",
    "        print()\n",
    "        stat, p = stats.mannwhitneyu(telco[telco.churn == 'No'][col], telco[telco.churn == 'Yes'][col])\n",
    "        print(f'Stat value: {stat}')\n",
    "        print(f'P-value: {p}')\n",
    "        print()\n",
    "        \n",
    "# Don't forget to adjust telco.churn == 'No' to 0s and 1s after prep"
   ]
  },
  {
   "cell_type": "code",
   "execution_count": null,
   "id": "cc7b0123",
   "metadata": {},
   "outputs": [],
   "source": []
  },
  {
   "cell_type": "code",
   "execution_count": null,
   "id": "17f8574e",
   "metadata": {},
   "outputs": [],
   "source": [
    "pd.crosstab(telco[telco.churn =='No'].payment_type, telco[telco.churn =='No'].tech_support, normalize = True)"
   ]
  },
  {
   "cell_type": "code",
   "execution_count": null,
   "id": "1f5c1512",
   "metadata": {},
   "outputs": [],
   "source": [
    "pd.crosstab(telco[telco.churn =='Yes'].payment_type, telco[telco.churn =='Yes'].tech_support, normalize = True)"
   ]
  },
  {
   "cell_type": "code",
   "execution_count": null,
   "id": "77186ed9",
   "metadata": {},
   "outputs": [],
   "source": [
    "pd.crosstab(telco.payment_type, telco.churn, normalize=True, margins=True)"
   ]
  },
  {
   "cell_type": "code",
   "execution_count": null,
   "id": "fa5eef0b",
   "metadata": {
    "scrolled": true
   },
   "outputs": [],
   "source": [
    "telco.churn.value_counts()"
   ]
  },
  {
   "cell_type": "code",
   "execution_count": null,
   "id": "d5a4a365",
   "metadata": {},
   "outputs": [],
   "source": [
    "3761/(3761+1756)"
   ]
  },
  {
   "cell_type": "code",
   "execution_count": null,
   "id": "ad547d75",
   "metadata": {},
   "outputs": [],
   "source": [
    "among those with internet\n",
    "\n",
    "phone -05\n",
    "multiple -05\n",
    "online sec -96***\n",
    "online back -48\n",
    "dev prot -39\n",
    "tech -92***\n",
    "stream tv .006\n",
    "stream mov .003\n",
    "paperless -26\n",
    "monthly .003\n",
    "total_charges -150\n",
    "contract -188****\n",
    "inter serv -73\n",
    "payment type -91***\n",
    "tenure -203***"
   ]
  },
  {
   "cell_type": "code",
   "execution_count": null,
   "id": "3e210183",
   "metadata": {},
   "outputs": [],
   "source": [
    "No_internet_service generally has a very low chance of churning"
   ]
  },
  {
   "cell_type": "code",
   "execution_count": null,
   "id": "9e856e7f",
   "metadata": {},
   "outputs": [],
   "source": [
    "senior -36\n",
    "partner -36\n",
    "dep -43\n",
    "tenure -124\n",
    "monthly charges -32\n",
    "contract type -153\n",
    "online security -185\n",
    "online backup -131\n",
    "device protection -122\n",
    "tech_support -180\n",
    "streaming tv -82\n",
    "streaming movies -82\n",
    "paperless -58"
   ]
  },
  {
   "cell_type": "code",
   "execution_count": null,
   "id": "4d57938b",
   "metadata": {
    "scrolled": true
   },
   "outputs": [],
   "source": [
    "sns.boxplot(data=telco, x='tenure', y='churn')\n",
    "plt.show()"
   ]
  },
  {
   "cell_type": "code",
   "execution_count": null,
   "id": "e8161fd2",
   "metadata": {},
   "outputs": [],
   "source": [
    "list(range(1,10))"
   ]
  },
  {
   "cell_type": "code",
   "execution_count": null,
   "id": "550241b1",
   "metadata": {},
   "outputs": [],
   "source": [
    "telco[telco.churn == 'No']['monthly_charges']"
   ]
  },
  {
   "cell_type": "code",
   "execution_count": null,
   "id": "65eb174e",
   "metadata": {},
   "outputs": [],
   "source": [
    "telco.contract_type.value_counts().plot(kind='barh')\n",
    "plt.show()"
   ]
  },
  {
   "cell_type": "code",
   "execution_count": null,
   "id": "4b9205ac",
   "metadata": {},
   "outputs": [],
   "source": [
    "plt.hist(telco.contract_type)"
   ]
  },
  {
   "cell_type": "code",
   "execution_count": null,
   "id": "f4518926",
   "metadata": {},
   "outputs": [],
   "source": [
    "telco.tenure.dtype"
   ]
  },
  {
   "cell_type": "code",
   "execution_count": null,
   "id": "38bfb255",
   "metadata": {},
   "outputs": [],
   "source": [
    "for column in telco.iloc[:,11:]:\n",
    "    print(telco[column].value_counts(dropna=False))\n",
    "    print()"
   ]
  },
  {
   "cell_type": "code",
   "execution_count": 8,
   "id": "9725654c",
   "metadata": {},
   "outputs": [],
   "source": [
    "from sklearn.tree import DecisionTreeClassifier, plot_tree\n",
    "from sklearn.ensemble import RandomForestClassifier\n",
    "from sklearn.neighbors import KNeighborsClassifier\n",
    "from sklearn.linear_model import LogisticRegression\n",
    "from sklearn.metrics import classification_report, confusion_matrix"
   ]
  },
  {
   "cell_type": "code",
   "execution_count": 9,
   "id": "f8534ece",
   "metadata": {},
   "outputs": [],
   "source": [
    "train_telco, validate_telco, test_telco = w.split_data(telco, 'churn')"
   ]
  },
  {
   "cell_type": "code",
   "execution_count": 44,
   "id": "017f88d9",
   "metadata": {},
   "outputs": [],
   "source": [
    "features = ['tenure', 'contract_type_One year', 'contract_type_Two year', 'online_security_Yes', 'tech_support_Yes', 'payment_type_Credit card (automatic)', 'payment_type_Electronic check', 'payment_type_Mailed check']"
   ]
  },
  {
   "cell_type": "code",
   "execution_count": 45,
   "id": "da163392",
   "metadata": {},
   "outputs": [],
   "source": [
    "X_train = train_telco[features]\n",
    "y_train = train_telco.churn\n",
    "\n",
    "X_validate = validate_telco[features]\n",
    "y_validate = validate_telco.churn\n",
    "\n",
    "X_test = test_telco[features]\n",
    "y_test = test_telco.churn"
   ]
  },
  {
   "cell_type": "code",
   "execution_count": null,
   "id": "8f15a191",
   "metadata": {},
   "outputs": [],
   "source": [
    "dtc = DecisionTreeClassifier()\n",
    "\n",
    "X_train = train_telco[['tenure', 'monthly_charges', 'contract_type_One year', 'contract_type_Two year', 'internet_service_type_Fiber optic', 'internet_service_type_None']]\n",
    "y_train = train_telco.churn\n",
    "\n",
    "X_validate = validate_telco[['tenure', 'monthly_charges', 'contract_type_One year', 'contract_type_Two year', 'internet_service_type_Fiber optic', 'internet_service_type_None']]\n",
    "y_validate = validate_telco.churn\n",
    "\n",
    "X_test = test_telco[['tenure', 'monthly_charges', 'contract_type_One year', 'contract_type_Two year', 'internet_service_type_Fiber optic', 'internet_service_type_None']]\n",
    "y_test = test_telco.churn"
   ]
  },
  {
   "cell_type": "code",
   "execution_count": 46,
   "id": "e035394c",
   "metadata": {},
   "outputs": [
    {
     "data": {
      "text/html": [
       "<div>\n",
       "<style scoped>\n",
       "    .dataframe tbody tr th:only-of-type {\n",
       "        vertical-align: middle;\n",
       "    }\n",
       "\n",
       "    .dataframe tbody tr th {\n",
       "        vertical-align: top;\n",
       "    }\n",
       "\n",
       "    .dataframe thead th {\n",
       "        text-align: right;\n",
       "    }\n",
       "</style>\n",
       "<table border=\"1\" class=\"dataframe\">\n",
       "  <thead>\n",
       "    <tr style=\"text-align: right;\">\n",
       "      <th></th>\n",
       "      <th>train</th>\n",
       "      <th>model</th>\n",
       "      <th>depth</th>\n",
       "      <th>difference</th>\n",
       "    </tr>\n",
       "  </thead>\n",
       "  <tbody>\n",
       "    <tr>\n",
       "      <th>0</th>\n",
       "      <td>0.712300</td>\n",
       "      <td>0.725543</td>\n",
       "      <td>1</td>\n",
       "      <td>-0.013244</td>\n",
       "    </tr>\n",
       "    <tr>\n",
       "      <th>0</th>\n",
       "      <td>0.737685</td>\n",
       "      <td>0.739130</td>\n",
       "      <td>2</td>\n",
       "      <td>-0.001445</td>\n",
       "    </tr>\n",
       "    <tr>\n",
       "      <th>0</th>\n",
       "      <td>0.739196</td>\n",
       "      <td>0.745471</td>\n",
       "      <td>3</td>\n",
       "      <td>-0.006275</td>\n",
       "    </tr>\n",
       "    <tr>\n",
       "      <th>0</th>\n",
       "      <td>0.748867</td>\n",
       "      <td>0.746377</td>\n",
       "      <td>4</td>\n",
       "      <td>0.002490</td>\n",
       "    </tr>\n",
       "    <tr>\n",
       "      <th>0</th>\n",
       "      <td>0.753702</td>\n",
       "      <td>0.750906</td>\n",
       "      <td>5</td>\n",
       "      <td>0.002796</td>\n",
       "    </tr>\n",
       "    <tr>\n",
       "      <th>0</th>\n",
       "      <td>0.755515</td>\n",
       "      <td>0.755435</td>\n",
       "      <td>6</td>\n",
       "      <td>0.000080</td>\n",
       "    </tr>\n",
       "    <tr>\n",
       "      <th>0</th>\n",
       "      <td>0.758840</td>\n",
       "      <td>0.745471</td>\n",
       "      <td>7</td>\n",
       "      <td>0.013369</td>\n",
       "    </tr>\n",
       "    <tr>\n",
       "      <th>0</th>\n",
       "      <td>0.765186</td>\n",
       "      <td>0.744565</td>\n",
       "      <td>8</td>\n",
       "      <td>0.020621</td>\n",
       "    </tr>\n",
       "    <tr>\n",
       "      <th>0</th>\n",
       "      <td>0.773950</td>\n",
       "      <td>0.735507</td>\n",
       "      <td>9</td>\n",
       "      <td>0.038443</td>\n",
       "    </tr>\n",
       "    <tr>\n",
       "      <th>0</th>\n",
       "      <td>0.785131</td>\n",
       "      <td>0.740036</td>\n",
       "      <td>10</td>\n",
       "      <td>0.045095</td>\n",
       "    </tr>\n",
       "  </tbody>\n",
       "</table>\n",
       "</div>"
      ],
      "text/plain": [
       "      train     model  depth  difference\n",
       "0  0.712300  0.725543      1   -0.013244\n",
       "0  0.737685  0.739130      2   -0.001445\n",
       "0  0.739196  0.745471      3   -0.006275\n",
       "0  0.748867  0.746377      4    0.002490\n",
       "0  0.753702  0.750906      5    0.002796\n",
       "0  0.755515  0.755435      6    0.000080\n",
       "0  0.758840  0.745471      7    0.013369\n",
       "0  0.765186  0.744565      8    0.020621\n",
       "0  0.773950  0.735507      9    0.038443\n",
       "0  0.785131  0.740036     10    0.045095"
      ]
     },
     "execution_count": 46,
     "metadata": {},
     "output_type": "execute_result"
    }
   ],
   "source": [
    "scores = pd.DataFrame({})\n",
    "\n",
    "for x in range(1,11):\n",
    "    dtc = DecisionTreeClassifier(max_depth=x)\n",
    "    dtc.fit(X_train, y_train)\n",
    "    score = pd.DataFrame({'train': [dtc.score(X_train, y_train)]\n",
    "                          , 'model': [dtc.score(X_validate, y_validate)]\n",
    "                          , 'depth': [x]\n",
    "                          , 'difference': [(dtc.score(X_train, y_train) - dtc.score(X_validate, y_validate))]})\n",
    "    scores = pd.concat([scores, score])\n",
    "    \n",
    "scores"
   ]
  },
  {
   "cell_type": "markdown",
   "id": "13daed4c",
   "metadata": {},
   "source": [
    "We'll chose 4"
   ]
  },
  {
   "cell_type": "code",
   "execution_count": null,
   "id": "4036a250",
   "metadata": {},
   "outputs": [],
   "source": [
    "dtc = DecisionTreeClassifier()\n",
    "dtc.fit(X_train, y_train)\n",
    "print(dtc.score(X_train, y_train))\n",
    "print(dtc.score(X_validate, y_validate))"
   ]
  },
  {
   "cell_type": "code",
   "execution_count": null,
   "id": "d24bc845",
   "metadata": {},
   "outputs": [],
   "source": [
    "rfc = RandomForestClassifier()\n",
    "rfc.fit(X_train, y_train)\n",
    "print(rfc.score(X_train, y_train))\n",
    "print(rfc.score(X_validate, y_validate))"
   ]
  },
  {
   "cell_type": "code",
   "execution_count": 47,
   "id": "d529ff95",
   "metadata": {},
   "outputs": [
    {
     "data": {
      "text/html": [
       "<div>\n",
       "<style scoped>\n",
       "    .dataframe tbody tr th:only-of-type {\n",
       "        vertical-align: middle;\n",
       "    }\n",
       "\n",
       "    .dataframe tbody tr th {\n",
       "        vertical-align: top;\n",
       "    }\n",
       "\n",
       "    .dataframe thead th {\n",
       "        text-align: right;\n",
       "    }\n",
       "</style>\n",
       "<table border=\"1\" class=\"dataframe\">\n",
       "  <thead>\n",
       "    <tr style=\"text-align: right;\">\n",
       "      <th></th>\n",
       "      <th>train</th>\n",
       "      <th>model</th>\n",
       "      <th>depth</th>\n",
       "      <th>difference</th>\n",
       "    </tr>\n",
       "  </thead>\n",
       "  <tbody>\n",
       "    <tr>\n",
       "      <th>0</th>\n",
       "      <td>0.681475</td>\n",
       "      <td>0.682065</td>\n",
       "      <td>1</td>\n",
       "      <td>-0.000590</td>\n",
       "    </tr>\n",
       "    <tr>\n",
       "      <th>0</th>\n",
       "      <td>0.736174</td>\n",
       "      <td>0.740036</td>\n",
       "      <td>2</td>\n",
       "      <td>-0.003862</td>\n",
       "    </tr>\n",
       "    <tr>\n",
       "      <th>0</th>\n",
       "      <td>0.750680</td>\n",
       "      <td>0.756341</td>\n",
       "      <td>3</td>\n",
       "      <td>-0.005661</td>\n",
       "    </tr>\n",
       "    <tr>\n",
       "      <th>0</th>\n",
       "      <td>0.753400</td>\n",
       "      <td>0.756341</td>\n",
       "      <td>4</td>\n",
       "      <td>-0.002941</td>\n",
       "    </tr>\n",
       "    <tr>\n",
       "      <th>0</th>\n",
       "      <td>0.752795</td>\n",
       "      <td>0.757246</td>\n",
       "      <td>5</td>\n",
       "      <td>-0.004451</td>\n",
       "    </tr>\n",
       "    <tr>\n",
       "      <th>0</th>\n",
       "      <td>0.756120</td>\n",
       "      <td>0.756341</td>\n",
       "      <td>6</td>\n",
       "      <td>-0.000221</td>\n",
       "    </tr>\n",
       "    <tr>\n",
       "      <th>0</th>\n",
       "      <td>0.760955</td>\n",
       "      <td>0.756341</td>\n",
       "      <td>7</td>\n",
       "      <td>0.004614</td>\n",
       "    </tr>\n",
       "    <tr>\n",
       "      <th>0</th>\n",
       "      <td>0.764884</td>\n",
       "      <td>0.756341</td>\n",
       "      <td>8</td>\n",
       "      <td>0.008543</td>\n",
       "    </tr>\n",
       "    <tr>\n",
       "      <th>0</th>\n",
       "      <td>0.774252</td>\n",
       "      <td>0.750000</td>\n",
       "      <td>9</td>\n",
       "      <td>0.024252</td>\n",
       "    </tr>\n",
       "    <tr>\n",
       "      <th>0</th>\n",
       "      <td>0.800846</td>\n",
       "      <td>0.740036</td>\n",
       "      <td>10</td>\n",
       "      <td>0.060810</td>\n",
       "    </tr>\n",
       "  </tbody>\n",
       "</table>\n",
       "</div>"
      ],
      "text/plain": [
       "      train     model  depth  difference\n",
       "0  0.681475  0.682065      1   -0.000590\n",
       "0  0.736174  0.740036      2   -0.003862\n",
       "0  0.750680  0.756341      3   -0.005661\n",
       "0  0.753400  0.756341      4   -0.002941\n",
       "0  0.752795  0.757246      5   -0.004451\n",
       "0  0.756120  0.756341      6   -0.000221\n",
       "0  0.760955  0.756341      7    0.004614\n",
       "0  0.764884  0.756341      8    0.008543\n",
       "0  0.774252  0.750000      9    0.024252\n",
       "0  0.800846  0.740036     10    0.060810"
      ]
     },
     "execution_count": 47,
     "metadata": {},
     "output_type": "execute_result"
    }
   ],
   "source": [
    "scores = pd.DataFrame({})\n",
    "\n",
    "for x in range(1,11):\n",
    "    rfc = RandomForestClassifier(max_depth=x, min_samples_leaf=11-x)\n",
    "    rfc.fit(X_train, y_train)\n",
    "    score = pd.DataFrame({'train': [rfc.score(X_train, y_train)]\n",
    "                          , 'model': [rfc.score(X_validate, y_validate)]\n",
    "                          , 'depth': [x]\n",
    "                          , 'difference': [(rfc.score(X_train, y_train) - rfc.score(X_validate, y_validate))]})\n",
    "    scores = pd.concat([scores, score])\n",
    "\n",
    "scores"
   ]
  },
  {
   "cell_type": "code",
   "execution_count": null,
   "id": "883239d8",
   "metadata": {},
   "outputs": [],
   "source": [
    "y_pred = rfc.predict(X_train)\n",
    "\n",
    "pd.crosstab(y_train, y_pred)"
   ]
  },
  {
   "cell_type": "code",
   "execution_count": null,
   "id": "eff703ef",
   "metadata": {},
   "outputs": [],
   "source": [
    "pd.crosstab(y_train, y_pred, normalize=True)"
   ]
  },
  {
   "cell_type": "code",
   "execution_count": null,
   "id": "8a8a5d1d",
   "metadata": {},
   "outputs": [],
   "source": [
    "knn = KNeighborsClassifier()\n",
    "knn.fit(X_train, y_train)\n",
    "print(knn.score(X_train, y_train))\n",
    "print(knn.score(X_validate, y_validate))"
   ]
  },
  {
   "cell_type": "code",
   "execution_count": 38,
   "id": "c629a7d0",
   "metadata": {},
   "outputs": [
    {
     "data": {
      "text/html": [
       "<div>\n",
       "<style scoped>\n",
       "    .dataframe tbody tr th:only-of-type {\n",
       "        vertical-align: middle;\n",
       "    }\n",
       "\n",
       "    .dataframe tbody tr th {\n",
       "        vertical-align: top;\n",
       "    }\n",
       "\n",
       "    .dataframe thead th {\n",
       "        text-align: right;\n",
       "    }\n",
       "</style>\n",
       "<table border=\"1\" class=\"dataframe\">\n",
       "  <thead>\n",
       "    <tr style=\"text-align: right;\">\n",
       "      <th></th>\n",
       "      <th>train</th>\n",
       "      <th>model</th>\n",
       "      <th>neighbors</th>\n",
       "      <th>difference</th>\n",
       "    </tr>\n",
       "  </thead>\n",
       "  <tbody>\n",
       "    <tr>\n",
       "      <th>0</th>\n",
       "      <td>0.693261</td>\n",
       "      <td>0.650362</td>\n",
       "      <td>1</td>\n",
       "      <td>0.042898</td>\n",
       "    </tr>\n",
       "    <tr>\n",
       "      <th>0</th>\n",
       "      <td>0.712300</td>\n",
       "      <td>0.704710</td>\n",
       "      <td>2</td>\n",
       "      <td>0.007590</td>\n",
       "    </tr>\n",
       "    <tr>\n",
       "      <th>0</th>\n",
       "      <td>0.722877</td>\n",
       "      <td>0.693841</td>\n",
       "      <td>3</td>\n",
       "      <td>0.029036</td>\n",
       "    </tr>\n",
       "    <tr>\n",
       "      <th>0</th>\n",
       "      <td>0.720762</td>\n",
       "      <td>0.697464</td>\n",
       "      <td>4</td>\n",
       "      <td>0.023298</td>\n",
       "    </tr>\n",
       "    <tr>\n",
       "      <th>0</th>\n",
       "      <td>0.733454</td>\n",
       "      <td>0.710145</td>\n",
       "      <td>5</td>\n",
       "      <td>0.023309</td>\n",
       "    </tr>\n",
       "    <tr>\n",
       "      <th>0</th>\n",
       "      <td>0.739801</td>\n",
       "      <td>0.731884</td>\n",
       "      <td>6</td>\n",
       "      <td>0.007916</td>\n",
       "    </tr>\n",
       "    <tr>\n",
       "      <th>0</th>\n",
       "      <td>0.739801</td>\n",
       "      <td>0.718297</td>\n",
       "      <td>7</td>\n",
       "      <td>0.021503</td>\n",
       "    </tr>\n",
       "    <tr>\n",
       "      <th>0</th>\n",
       "      <td>0.740707</td>\n",
       "      <td>0.728261</td>\n",
       "      <td>8</td>\n",
       "      <td>0.012446</td>\n",
       "    </tr>\n",
       "    <tr>\n",
       "      <th>0</th>\n",
       "      <td>0.743427</td>\n",
       "      <td>0.722826</td>\n",
       "      <td>9</td>\n",
       "      <td>0.020601</td>\n",
       "    </tr>\n",
       "    <tr>\n",
       "      <th>0</th>\n",
       "      <td>0.739498</td>\n",
       "      <td>0.728261</td>\n",
       "      <td>10</td>\n",
       "      <td>0.011237</td>\n",
       "    </tr>\n",
       "  </tbody>\n",
       "</table>\n",
       "</div>"
      ],
      "text/plain": [
       "      train     model  neighbors  difference\n",
       "0  0.693261  0.650362          1    0.042898\n",
       "0  0.712300  0.704710          2    0.007590\n",
       "0  0.722877  0.693841          3    0.029036\n",
       "0  0.720762  0.697464          4    0.023298\n",
       "0  0.733454  0.710145          5    0.023309\n",
       "0  0.739801  0.731884          6    0.007916\n",
       "0  0.739801  0.718297          7    0.021503\n",
       "0  0.740707  0.728261          8    0.012446\n",
       "0  0.743427  0.722826          9    0.020601\n",
       "0  0.739498  0.728261         10    0.011237"
      ]
     },
     "execution_count": 38,
     "metadata": {},
     "output_type": "execute_result"
    }
   ],
   "source": [
    "scores = pd.DataFrame({})\n",
    "\n",
    "for x in range(1,11):\n",
    "    knn = KNeighborsClassifier(n_neighbors=x)\n",
    "    knn.fit(X_train, y_train)\n",
    "    score = pd.DataFrame({'train': [knn.score(X_train, y_train)]\n",
    "                          , 'model': [knn.score(X_validate, y_validate)]\n",
    "                          , 'neighbors': [x]\n",
    "                          , 'difference': [(knn.score(X_train, y_train) - knn.score(X_validate, y_validate))]})\n",
    "    scores = pd.concat([scores, score])\n",
    "\n",
    "scores"
   ]
  },
  {
   "cell_type": "code",
   "execution_count": null,
   "id": "bc5a15c2",
   "metadata": {},
   "outputs": [],
   "source": [
    "lr = LogisticRegression()\n",
    "lr.fit(X_train, y_train)\n",
    "print(lr.score(X_train, y_train))\n",
    "print(lr.score(X_validate, y_validate))"
   ]
  },
  {
   "cell_type": "code",
   "execution_count": 39,
   "id": "67988338",
   "metadata": {},
   "outputs": [
    {
     "data": {
      "text/html": [
       "<div>\n",
       "<style scoped>\n",
       "    .dataframe tbody tr th:only-of-type {\n",
       "        vertical-align: middle;\n",
       "    }\n",
       "\n",
       "    .dataframe tbody tr th {\n",
       "        vertical-align: top;\n",
       "    }\n",
       "\n",
       "    .dataframe thead th {\n",
       "        text-align: right;\n",
       "    }\n",
       "</style>\n",
       "<table border=\"1\" class=\"dataframe\">\n",
       "  <thead>\n",
       "    <tr style=\"text-align: right;\">\n",
       "      <th></th>\n",
       "      <th>train</th>\n",
       "      <th>model</th>\n",
       "      <th>C</th>\n",
       "      <th>difference</th>\n",
       "    </tr>\n",
       "  </thead>\n",
       "  <tbody>\n",
       "    <tr>\n",
       "      <th>0</th>\n",
       "      <td>0.741614</td>\n",
       "      <td>0.749094</td>\n",
       "      <td>0.1</td>\n",
       "      <td>-0.007480</td>\n",
       "    </tr>\n",
       "    <tr>\n",
       "      <th>0</th>\n",
       "      <td>0.735267</td>\n",
       "      <td>0.746377</td>\n",
       "      <td>1.0</td>\n",
       "      <td>-0.011109</td>\n",
       "    </tr>\n",
       "    <tr>\n",
       "      <th>0</th>\n",
       "      <td>0.735267</td>\n",
       "      <td>0.746377</td>\n",
       "      <td>10.0</td>\n",
       "      <td>-0.011109</td>\n",
       "    </tr>\n",
       "    <tr>\n",
       "      <th>0</th>\n",
       "      <td>0.735267</td>\n",
       "      <td>0.746377</td>\n",
       "      <td>100.0</td>\n",
       "      <td>-0.011109</td>\n",
       "    </tr>\n",
       "    <tr>\n",
       "      <th>0</th>\n",
       "      <td>0.735267</td>\n",
       "      <td>0.746377</td>\n",
       "      <td>1000.0</td>\n",
       "      <td>-0.011109</td>\n",
       "    </tr>\n",
       "  </tbody>\n",
       "</table>\n",
       "</div>"
      ],
      "text/plain": [
       "      train     model       C  difference\n",
       "0  0.741614  0.749094     0.1   -0.007480\n",
       "0  0.735267  0.746377     1.0   -0.011109\n",
       "0  0.735267  0.746377    10.0   -0.011109\n",
       "0  0.735267  0.746377   100.0   -0.011109\n",
       "0  0.735267  0.746377  1000.0   -0.011109"
      ]
     },
     "execution_count": 39,
     "metadata": {},
     "output_type": "execute_result"
    }
   ],
   "source": [
    "scores = pd.DataFrame({})\n",
    "\n",
    "for x in [.1,1,10,100,1000]:\n",
    "    lr = LogisticRegression(C=x)\n",
    "    lr.fit(X_train, y_train)\n",
    "    score = pd.DataFrame({'train': [lr.score(X_train, y_train)]\n",
    "                          , 'model': [lr.score(X_validate, y_validate)]\n",
    "                          , 'C': [x]\n",
    "                          , 'difference': [(lr.score(X_train, y_train) - lr.score(X_validate, y_validate))]})\n",
    "    scores = pd.concat([scores, score])\n",
    "\n",
    "scores"
   ]
  },
  {
   "cell_type": "code",
   "execution_count": null,
   "id": "5b8784f8",
   "metadata": {},
   "outputs": [],
   "source": [
    "# import warnings\n",
    "# warnings.filterwarnings(\"ignore\")\n",
    "\n",
    "# scores = pd.DataFrame({})\n",
    "\n",
    "# # Decision Tree\n",
    "\n",
    "# dtc = DecisionTreeClassifier(max_depth=6)\n",
    "# dtc.fit(X_train, y_train)\n",
    "\n",
    "# score = pd.DataFrame({'model': ['Decision Tree']\n",
    "#                     , 'train': [dtc.score(X_train, y_train)]\n",
    "#                     , 'validate': [dtc.score(X_validate, y_validate)]\n",
    "#                     , 'hyper_value': [6]\n",
    "#                     , 'difference': [(dtc.score(X_train, y_train) - dtc.score(X_validate, y_validate))]})\n",
    "\n",
    "# scores = pd.concat([scores, score])\n",
    "\n",
    "# # Random Forest\n",
    "\n",
    "# rfc = RandomForestClassifier(max_depth=6, min_samples_leaf=5)\n",
    "# rfc.fit(X_train, y_train)\n",
    "\n",
    "# score = pd.DataFrame({'model': ['Random Forest']\n",
    "#                     , 'train': [rfc.score(X_train, y_train)]\n",
    "#                     , 'validate': [rfc.score(X_validate, y_validate)]\n",
    "#                     , 'hyper_value': [6]\n",
    "#                     , 'difference': [(rfc.score(X_train, y_train) - rfc.score(X_validate, y_validate))]})\n",
    "\n",
    "# scores = pd.concat([scores, score])\n",
    "\n",
    "# # KNN\n",
    "\n",
    "# knn = KNeighborsClassifier(n_neighbors=8)\n",
    "# knn.fit(X_train, y_train)\n",
    "\n",
    "# score = pd.DataFrame({'model': ['KNN']\n",
    "#                     , 'train': [knn.score(X_train, y_train)]\n",
    "#                     , 'validate': [knn.score(X_validate, y_validate)]\n",
    "#                     , 'hyper_value': [8]\n",
    "#                     , 'difference': [(knn.score(X_train, y_train) - knn.score(X_validate, y_validate))]})\n",
    "\n",
    "# scores = pd.concat([scores, score])\n",
    "\n",
    "# # Logistic Regression\n",
    "\n",
    "# lr = LogisticRegression(C=10)\n",
    "# lr.fit(X_train, y_train)\n",
    "\n",
    "# score = pd.DataFrame({'model': ['Logistic Regression']\n",
    "#                     , 'train': [lr.score(X_train, y_train)]\n",
    "#                     , 'validate': [lr.score(X_validate, y_validate)]\n",
    "#                     , 'hyper_value': [10]\n",
    "#                     , 'difference': [(lr.score(X_train, y_train) - lr.score(X_validate, y_validate))]})\n",
    "\n",
    "# scores = pd.concat([scores, score])\n",
    "\n",
    "# scores.reset_index(drop=True)"
   ]
  },
  {
   "cell_type": "code",
   "execution_count": null,
   "id": "eb65ddf7",
   "metadata": {},
   "outputs": [],
   "source": [
    "em.classification_models_performance(X_train, y_train, X_validate, y_validate)"
   ]
  },
  {
   "cell_type": "code",
   "execution_count": null,
   "id": "be903c67",
   "metadata": {},
   "outputs": [],
   "source": [
    "test_telco"
   ]
  },
  {
   "cell_type": "code",
   "execution_count": null,
   "id": "94bf0f8f",
   "metadata": {},
   "outputs": [],
   "source": []
  },
  {
   "cell_type": "code",
   "execution_count": null,
   "id": "39430429",
   "metadata": {},
   "outputs": [],
   "source": [
    "rfc = RandomForestClassifier(max_depth=6, min_samples_leaf=5)\n",
    "rfc.fit(X_train, y_train)\n",
    "y_pred = rfc.predict(X_test)\n",
    "y_prob = rfc.predict_proba(X_test)\n",
    "predictions = pd.DataFrame({'customer_id': X_test.reset_index().customer_id,\n",
    "             'prediction': y_pred,\n",
    "             'churn_prob': y_prob[:,1]})\n",
    "predictions.to_csv('predictions')\n",
    "\n",
    "predictions.to_csv()\n"
   ]
  },
  {
   "cell_type": "code",
   "execution_count": null,
   "id": "8e130ad4",
   "metadata": {},
   "outputs": [],
   "source": []
  },
  {
   "cell_type": "code",
   "execution_count": null,
   "id": "12cd8b82",
   "metadata": {},
   "outputs": [],
   "source": [
    "pd.DataFrame({'customer_id': X_test.reset_index().customer_id,\n",
    "             'prediction': y_pred,\n",
    "             'churn_prob': y_prob[:,1]})"
   ]
  },
  {
   "cell_type": "code",
   "execution_count": null,
   "id": "25e8c5d2",
   "metadata": {},
   "outputs": [],
   "source": [
    "y_prob[:,1]"
   ]
  },
  {
   "cell_type": "code",
   "execution_count": null,
   "id": "928d25ff",
   "metadata": {
    "scrolled": true
   },
   "outputs": [],
   "source": [
    "test_telco.reset_index().customer_id"
   ]
  },
  {
   "cell_type": "code",
   "execution_count": 16,
   "id": "5564ff20",
   "metadata": {},
   "outputs": [
    {
     "data": {
      "text/plain": [
       "7.409999999999997"
      ]
     },
     "execution_count": 16,
     "metadata": {},
     "output_type": "execute_result"
    }
   ],
   "source": [
    "75.55 - 68.14"
   ]
  },
  {
   "cell_type": "code",
   "execution_count": 18,
   "id": "3541dc8b",
   "metadata": {},
   "outputs": [
    {
     "data": {
      "text/plain": [
       "245.1969"
      ]
     },
     "execution_count": 18,
     "metadata": {},
     "output_type": "execute_result"
    }
   ],
   "source": [
    "(2255+1054)*.0741"
   ]
  },
  {
   "cell_type": "code",
   "execution_count": 17,
   "id": "ab193001",
   "metadata": {},
   "outputs": [
    {
     "data": {
      "text/plain": [
       "6.519999999999996"
      ]
     },
     "execution_count": 17,
     "metadata": {},
     "output_type": "execute_result"
    }
   ],
   "source": [
    "80 - 73.48"
   ]
  },
  {
   "cell_type": "code",
   "execution_count": 19,
   "id": "b0899c51",
   "metadata": {},
   "outputs": [
    {
     "data": {
      "text/plain": [
       "275.46999999999997"
      ]
     },
     "execution_count": 19,
     "metadata": {},
     "output_type": "execute_result"
    }
   ],
   "source": [
    "(3104+1121) * .0652"
   ]
  },
  {
   "cell_type": "code",
   "execution_count": null,
   "id": "f7b343b0",
   "metadata": {},
   "outputs": [],
   "source": []
  }
 ],
 "metadata": {
  "kernelspec": {
   "display_name": "Python 3 (ipykernel)",
   "language": "python",
   "name": "python3"
  },
  "language_info": {
   "codemirror_mode": {
    "name": "ipython",
    "version": 3
   },
   "file_extension": ".py",
   "mimetype": "text/x-python",
   "name": "python",
   "nbconvert_exporter": "python",
   "pygments_lexer": "ipython3",
   "version": "3.9.13"
  }
 },
 "nbformat": 4,
 "nbformat_minor": 5
}

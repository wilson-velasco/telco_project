{
 "cells": [
  {
   "cell_type": "markdown",
   "id": "dc0094ed",
   "metadata": {},
   "source": [
    "# Imports"
   ]
  },
  {
   "cell_type": "code",
   "execution_count": 1,
   "id": "e1f9e0e7",
   "metadata": {},
   "outputs": [],
   "source": [
    "import pandas as pd\n",
    "import numpy as np\n",
    "import matplotlib.pyplot as plt\n",
    "import seaborn as sns\n",
    "\n",
    "import wrangle as w\n",
    "import explore_mod as em\n",
    "\n",
    "from sklearn.tree import DecisionTreeClassifier, plot_tree\n",
    "from sklearn.ensemble import RandomForestClassifier\n",
    "from sklearn.neighbors import KNeighborsClassifier\n",
    "from sklearn.linear_model import LogisticRegression\n",
    "from sklearn.metrics import classification_report, confusion_matrix"
   ]
  },
  {
   "cell_type": "markdown",
   "id": "f25403f0",
   "metadata": {},
   "source": [
    "# Project Description"
   ]
  },
  {
   "cell_type": "markdown",
   "id": "cf140111",
   "metadata": {},
   "source": [
    "The aim of this project is to look at what drives customer churn for a fictional company, Telco.\n",
    "\n",
    "The main goals are:\n",
    "\n",
    "- Identify key demographic of churning customers.\n",
    "- Determine at least two factors that contribute to customer churn.\n",
    "- Predict with at least 80% accuracy whether a given customer will churn.\n",
    "- Provide stakeholders with recommendations as to how to reduce customer churn.\n",
    "\n",
    "## Hypothesis:\n",
    "\n",
    "> monthly_charges and tenure will be the most determining factors of whether a customer will churn."
   ]
  },
  {
   "cell_type": "markdown",
   "id": "d11a56ca",
   "metadata": {},
   "source": [
    "# Data Wrangling"
   ]
  },
  {
   "cell_type": "markdown",
   "id": "d222e9b1",
   "metadata": {},
   "source": [
    "First, we'll get our data from the database. The function will save a local copy."
   ]
  },
  {
   "cell_type": "code",
   "execution_count": 2,
   "id": "8b1f3dd4",
   "metadata": {},
   "outputs": [
    {
     "data": {
      "text/html": [
       "<div>\n",
       "<style scoped>\n",
       "    .dataframe tbody tr th:only-of-type {\n",
       "        vertical-align: middle;\n",
       "    }\n",
       "\n",
       "    .dataframe tbody tr th {\n",
       "        vertical-align: top;\n",
       "    }\n",
       "\n",
       "    .dataframe thead th {\n",
       "        text-align: right;\n",
       "    }\n",
       "</style>\n",
       "<table border=\"1\" class=\"dataframe\">\n",
       "  <thead>\n",
       "    <tr style=\"text-align: right;\">\n",
       "      <th></th>\n",
       "      <th>payment_type_id</th>\n",
       "      <th>internet_service_type_id</th>\n",
       "      <th>contract_type_id</th>\n",
       "      <th>customer_id</th>\n",
       "      <th>gender</th>\n",
       "      <th>senior_citizen</th>\n",
       "      <th>partner</th>\n",
       "      <th>dependents</th>\n",
       "      <th>tenure</th>\n",
       "      <th>phone_service</th>\n",
       "      <th>...</th>\n",
       "      <th>tech_support</th>\n",
       "      <th>streaming_tv</th>\n",
       "      <th>streaming_movies</th>\n",
       "      <th>paperless_billing</th>\n",
       "      <th>monthly_charges</th>\n",
       "      <th>total_charges</th>\n",
       "      <th>churn</th>\n",
       "      <th>contract_type</th>\n",
       "      <th>internet_service_type</th>\n",
       "      <th>payment_type</th>\n",
       "    </tr>\n",
       "  </thead>\n",
       "  <tbody>\n",
       "    <tr>\n",
       "      <th>0</th>\n",
       "      <td>2</td>\n",
       "      <td>1</td>\n",
       "      <td>2</td>\n",
       "      <td>0002-ORFBO</td>\n",
       "      <td>Female</td>\n",
       "      <td>0</td>\n",
       "      <td>Yes</td>\n",
       "      <td>Yes</td>\n",
       "      <td>9</td>\n",
       "      <td>Yes</td>\n",
       "      <td>...</td>\n",
       "      <td>Yes</td>\n",
       "      <td>Yes</td>\n",
       "      <td>No</td>\n",
       "      <td>Yes</td>\n",
       "      <td>65.6</td>\n",
       "      <td>593.3</td>\n",
       "      <td>No</td>\n",
       "      <td>One year</td>\n",
       "      <td>DSL</td>\n",
       "      <td>Mailed check</td>\n",
       "    </tr>\n",
       "    <tr>\n",
       "      <th>1</th>\n",
       "      <td>2</td>\n",
       "      <td>1</td>\n",
       "      <td>1</td>\n",
       "      <td>0003-MKNFE</td>\n",
       "      <td>Male</td>\n",
       "      <td>0</td>\n",
       "      <td>No</td>\n",
       "      <td>No</td>\n",
       "      <td>9</td>\n",
       "      <td>Yes</td>\n",
       "      <td>...</td>\n",
       "      <td>No</td>\n",
       "      <td>No</td>\n",
       "      <td>Yes</td>\n",
       "      <td>No</td>\n",
       "      <td>59.9</td>\n",
       "      <td>542.4</td>\n",
       "      <td>No</td>\n",
       "      <td>Month-to-month</td>\n",
       "      <td>DSL</td>\n",
       "      <td>Mailed check</td>\n",
       "    </tr>\n",
       "    <tr>\n",
       "      <th>2</th>\n",
       "      <td>1</td>\n",
       "      <td>2</td>\n",
       "      <td>1</td>\n",
       "      <td>0004-TLHLJ</td>\n",
       "      <td>Male</td>\n",
       "      <td>0</td>\n",
       "      <td>No</td>\n",
       "      <td>No</td>\n",
       "      <td>4</td>\n",
       "      <td>Yes</td>\n",
       "      <td>...</td>\n",
       "      <td>No</td>\n",
       "      <td>No</td>\n",
       "      <td>No</td>\n",
       "      <td>Yes</td>\n",
       "      <td>73.9</td>\n",
       "      <td>280.85</td>\n",
       "      <td>Yes</td>\n",
       "      <td>Month-to-month</td>\n",
       "      <td>Fiber optic</td>\n",
       "      <td>Electronic check</td>\n",
       "    </tr>\n",
       "    <tr>\n",
       "      <th>3</th>\n",
       "      <td>1</td>\n",
       "      <td>2</td>\n",
       "      <td>1</td>\n",
       "      <td>0011-IGKFF</td>\n",
       "      <td>Male</td>\n",
       "      <td>1</td>\n",
       "      <td>Yes</td>\n",
       "      <td>No</td>\n",
       "      <td>13</td>\n",
       "      <td>Yes</td>\n",
       "      <td>...</td>\n",
       "      <td>No</td>\n",
       "      <td>Yes</td>\n",
       "      <td>Yes</td>\n",
       "      <td>Yes</td>\n",
       "      <td>98.0</td>\n",
       "      <td>1237.85</td>\n",
       "      <td>Yes</td>\n",
       "      <td>Month-to-month</td>\n",
       "      <td>Fiber optic</td>\n",
       "      <td>Electronic check</td>\n",
       "    </tr>\n",
       "    <tr>\n",
       "      <th>4</th>\n",
       "      <td>2</td>\n",
       "      <td>2</td>\n",
       "      <td>1</td>\n",
       "      <td>0013-EXCHZ</td>\n",
       "      <td>Female</td>\n",
       "      <td>1</td>\n",
       "      <td>Yes</td>\n",
       "      <td>No</td>\n",
       "      <td>3</td>\n",
       "      <td>Yes</td>\n",
       "      <td>...</td>\n",
       "      <td>Yes</td>\n",
       "      <td>Yes</td>\n",
       "      <td>No</td>\n",
       "      <td>Yes</td>\n",
       "      <td>83.9</td>\n",
       "      <td>267.4</td>\n",
       "      <td>Yes</td>\n",
       "      <td>Month-to-month</td>\n",
       "      <td>Fiber optic</td>\n",
       "      <td>Mailed check</td>\n",
       "    </tr>\n",
       "  </tbody>\n",
       "</table>\n",
       "<p>5 rows × 24 columns</p>\n",
       "</div>"
      ],
      "text/plain": [
       "   payment_type_id  internet_service_type_id  contract_type_id customer_id  \\\n",
       "0                2                         1                 2  0002-ORFBO   \n",
       "1                2                         1                 1  0003-MKNFE   \n",
       "2                1                         2                 1  0004-TLHLJ   \n",
       "3                1                         2                 1  0011-IGKFF   \n",
       "4                2                         2                 1  0013-EXCHZ   \n",
       "\n",
       "   gender  senior_citizen partner dependents  tenure phone_service  ...  \\\n",
       "0  Female               0     Yes        Yes       9           Yes  ...   \n",
       "1    Male               0      No         No       9           Yes  ...   \n",
       "2    Male               0      No         No       4           Yes  ...   \n",
       "3    Male               1     Yes         No      13           Yes  ...   \n",
       "4  Female               1     Yes         No       3           Yes  ...   \n",
       "\n",
       "  tech_support streaming_tv streaming_movies paperless_billing  \\\n",
       "0          Yes          Yes               No               Yes   \n",
       "1           No           No              Yes                No   \n",
       "2           No           No               No               Yes   \n",
       "3           No          Yes              Yes               Yes   \n",
       "4          Yes          Yes               No               Yes   \n",
       "\n",
       "  monthly_charges total_charges churn   contract_type  internet_service_type  \\\n",
       "0            65.6         593.3    No        One year                    DSL   \n",
       "1            59.9         542.4    No  Month-to-month                    DSL   \n",
       "2            73.9        280.85   Yes  Month-to-month            Fiber optic   \n",
       "3            98.0       1237.85   Yes  Month-to-month            Fiber optic   \n",
       "4            83.9         267.4   Yes  Month-to-month            Fiber optic   \n",
       "\n",
       "       payment_type  \n",
       "0      Mailed check  \n",
       "1      Mailed check  \n",
       "2  Electronic check  \n",
       "3  Electronic check  \n",
       "4      Mailed check  \n",
       "\n",
       "[5 rows x 24 columns]"
      ]
     },
     "execution_count": 2,
     "metadata": {},
     "output_type": "execute_result"
    }
   ],
   "source": [
    "telco = w.get_telco_data()\n",
    "\n",
    "telco.head()"
   ]
  },
  {
   "cell_type": "markdown",
   "id": "a3193f74",
   "metadata": {},
   "source": [
    "This is the second round of going over my data after completing MVP. What had struck out to me was that those who don't have internet have a really low churn rate."
   ]
  },
  {
   "cell_type": "code",
   "execution_count": 3,
   "id": "92b2a6fb",
   "metadata": {},
   "outputs": [
    {
     "data": {
      "image/png": "[encoded data removed]",
      "text/plain": [
       "<Figure size 640x480 with 1 Axes>"
      ]
     },
     "metadata": {},
     "output_type": "display_data"
    }
   ],
   "source": [
    "pct = pd.crosstab(telco.internet_service_type, telco.churn)\n",
    "pct.plot.bar()\n",
    "plt.show()"
   ]
  },
  {
   "cell_type": "code",
   "execution_count": 4,
   "id": "c3991739",
   "metadata": {},
   "outputs": [
    {
     "data": {
      "text/html": [
       "<div>\n",
       "<style scoped>\n",
       "    .dataframe tbody tr th:only-of-type {\n",
       "        vertical-align: middle;\n",
       "    }\n",
       "\n",
       "    .dataframe tbody tr th {\n",
       "        vertical-align: top;\n",
       "    }\n",
       "\n",
       "    .dataframe thead th {\n",
       "        text-align: right;\n",
       "    }\n",
       "</style>\n",
       "<table border=\"1\" class=\"dataframe\">\n",
       "  <thead>\n",
       "    <tr style=\"text-align: right;\">\n",
       "      <th>churn</th>\n",
       "      <th>No</th>\n",
       "      <th>Yes</th>\n",
       "      <th>All</th>\n",
       "    </tr>\n",
       "    <tr>\n",
       "      <th>internet_service_type</th>\n",
       "      <th></th>\n",
       "      <th></th>\n",
       "      <th></th>\n",
       "    </tr>\n",
       "  </thead>\n",
       "  <tbody>\n",
       "    <tr>\n",
       "      <th>DSL</th>\n",
       "      <td>1962</td>\n",
       "      <td>459</td>\n",
       "      <td>2421</td>\n",
       "    </tr>\n",
       "    <tr>\n",
       "      <th>Fiber optic</th>\n",
       "      <td>1799</td>\n",
       "      <td>1297</td>\n",
       "      <td>3096</td>\n",
       "    </tr>\n",
       "    <tr>\n",
       "      <th>None</th>\n",
       "      <td>1413</td>\n",
       "      <td>113</td>\n",
       "      <td>1526</td>\n",
       "    </tr>\n",
       "    <tr>\n",
       "      <th>All</th>\n",
       "      <td>5174</td>\n",
       "      <td>1869</td>\n",
       "      <td>7043</td>\n",
       "    </tr>\n",
       "  </tbody>\n",
       "</table>\n",
       "</div>"
      ],
      "text/plain": [
       "churn                    No   Yes   All\n",
       "internet_service_type                  \n",
       "DSL                    1962   459  2421\n",
       "Fiber optic            1799  1297  3096\n",
       "None                   1413   113  1526\n",
       "All                    5174  1869  7043"
      ]
     },
     "execution_count": 4,
     "metadata": {},
     "output_type": "execute_result"
    }
   ],
   "source": [
    "pd.crosstab(telco.internet_service_type, telco.churn, margins=True)"
   ]
  },
  {
   "cell_type": "markdown",
   "id": "4447f148",
   "metadata": {},
   "source": [
    "Of those that don't have internet, 113 out of 1526 churn (7.4% within group, 1.6% of total customers).\n",
    "\n",
    "Of those that do have internet, 1756 out of 5517 churn (31.83% within group, 24.93% of total customers)."
   ]
  },
  {
   "cell_type": "markdown",
   "id": "b3f09c50",
   "metadata": {},
   "source": [
    "**I will isolate the dataset to only contain those who have internet, and predict their churn.**"
   ]
  },
  {
   "cell_type": "markdown",
   "id": "726633d2",
   "metadata": {},
   "source": [
    "Next, we'll run our data through a function that will handle null values and format the data for easy exploration and modeling."
   ]
  },
  {
   "cell_type": "code",
   "execution_count": 5,
   "id": "db9c6d0d",
   "metadata": {},
   "outputs": [
    {
     "data": {
      "text/html": [
       "<div>\n",
       "<style scoped>\n",
       "    .dataframe tbody tr th:only-of-type {\n",
       "        vertical-align: middle;\n",
       "    }\n",
       "\n",
       "    .dataframe tbody tr th {\n",
       "        vertical-align: top;\n",
       "    }\n",
       "\n",
       "    .dataframe thead th {\n",
       "        text-align: right;\n",
       "    }\n",
       "</style>\n",
       "<table border=\"1\" class=\"dataframe\">\n",
       "  <thead>\n",
       "    <tr style=\"text-align: right;\">\n",
       "      <th></th>\n",
       "      <th>gender</th>\n",
       "      <th>senior_citizen</th>\n",
       "      <th>partner</th>\n",
       "      <th>dependents</th>\n",
       "      <th>tenure</th>\n",
       "      <th>phone_service</th>\n",
       "      <th>multiple_lines</th>\n",
       "      <th>online_security</th>\n",
       "      <th>online_backup</th>\n",
       "      <th>device_protection</th>\n",
       "      <th>...</th>\n",
       "      <th>multiple_lines_No phone service</th>\n",
       "      <th>multiple_lines_Yes</th>\n",
       "      <th>online_security_Yes</th>\n",
       "      <th>tech_support_Yes</th>\n",
       "      <th>contract_type_One year</th>\n",
       "      <th>contract_type_Two year</th>\n",
       "      <th>internet_service_type_Fiber optic</th>\n",
       "      <th>payment_type_Credit card (automatic)</th>\n",
       "      <th>payment_type_Electronic check</th>\n",
       "      <th>payment_type_Mailed check</th>\n",
       "    </tr>\n",
       "    <tr>\n",
       "      <th>customer_id</th>\n",
       "      <th></th>\n",
       "      <th></th>\n",
       "      <th></th>\n",
       "      <th></th>\n",
       "      <th></th>\n",
       "      <th></th>\n",
       "      <th></th>\n",
       "      <th></th>\n",
       "      <th></th>\n",
       "      <th></th>\n",
       "      <th></th>\n",
       "      <th></th>\n",
       "      <th></th>\n",
       "      <th></th>\n",
       "      <th></th>\n",
       "      <th></th>\n",
       "      <th></th>\n",
       "      <th></th>\n",
       "      <th></th>\n",
       "      <th></th>\n",
       "      <th></th>\n",
       "    </tr>\n",
       "  </thead>\n",
       "  <tbody>\n",
       "    <tr>\n",
       "      <th>0002-ORFBO</th>\n",
       "      <td>Female</td>\n",
       "      <td>0</td>\n",
       "      <td>Yes</td>\n",
       "      <td>Yes</td>\n",
       "      <td>9</td>\n",
       "      <td>Yes</td>\n",
       "      <td>No</td>\n",
       "      <td>No</td>\n",
       "      <td>Yes</td>\n",
       "      <td>No</td>\n",
       "      <td>...</td>\n",
       "      <td>0</td>\n",
       "      <td>0</td>\n",
       "      <td>0</td>\n",
       "      <td>1</td>\n",
       "      <td>1</td>\n",
       "      <td>0</td>\n",
       "      <td>0</td>\n",
       "      <td>0</td>\n",
       "      <td>0</td>\n",
       "      <td>1</td>\n",
       "    </tr>\n",
       "    <tr>\n",
       "      <th>0003-MKNFE</th>\n",
       "      <td>Male</td>\n",
       "      <td>0</td>\n",
       "      <td>No</td>\n",
       "      <td>No</td>\n",
       "      <td>9</td>\n",
       "      <td>Yes</td>\n",
       "      <td>Yes</td>\n",
       "      <td>No</td>\n",
       "      <td>No</td>\n",
       "      <td>No</td>\n",
       "      <td>...</td>\n",
       "      <td>0</td>\n",
       "      <td>1</td>\n",
       "      <td>0</td>\n",
       "      <td>0</td>\n",
       "      <td>0</td>\n",
       "      <td>0</td>\n",
       "      <td>0</td>\n",
       "      <td>0</td>\n",
       "      <td>0</td>\n",
       "      <td>1</td>\n",
       "    </tr>\n",
       "    <tr>\n",
       "      <th>0004-TLHLJ</th>\n",
       "      <td>Male</td>\n",
       "      <td>0</td>\n",
       "      <td>No</td>\n",
       "      <td>No</td>\n",
       "      <td>4</td>\n",
       "      <td>Yes</td>\n",
       "      <td>No</td>\n",
       "      <td>No</td>\n",
       "      <td>No</td>\n",
       "      <td>Yes</td>\n",
       "      <td>...</td>\n",
       "      <td>0</td>\n",
       "      <td>0</td>\n",
       "      <td>0</td>\n",
       "      <td>0</td>\n",
       "      <td>0</td>\n",
       "      <td>0</td>\n",
       "      <td>1</td>\n",
       "      <td>0</td>\n",
       "      <td>1</td>\n",
       "      <td>0</td>\n",
       "    </tr>\n",
       "    <tr>\n",
       "      <th>0011-IGKFF</th>\n",
       "      <td>Male</td>\n",
       "      <td>1</td>\n",
       "      <td>Yes</td>\n",
       "      <td>No</td>\n",
       "      <td>13</td>\n",
       "      <td>Yes</td>\n",
       "      <td>No</td>\n",
       "      <td>No</td>\n",
       "      <td>Yes</td>\n",
       "      <td>Yes</td>\n",
       "      <td>...</td>\n",
       "      <td>0</td>\n",
       "      <td>0</td>\n",
       "      <td>0</td>\n",
       "      <td>0</td>\n",
       "      <td>0</td>\n",
       "      <td>0</td>\n",
       "      <td>1</td>\n",
       "      <td>0</td>\n",
       "      <td>1</td>\n",
       "      <td>0</td>\n",
       "    </tr>\n",
       "    <tr>\n",
       "      <th>0013-EXCHZ</th>\n",
       "      <td>Female</td>\n",
       "      <td>1</td>\n",
       "      <td>Yes</td>\n",
       "      <td>No</td>\n",
       "      <td>3</td>\n",
       "      <td>Yes</td>\n",
       "      <td>No</td>\n",
       "      <td>No</td>\n",
       "      <td>No</td>\n",
       "      <td>No</td>\n",
       "      <td>...</td>\n",
       "      <td>0</td>\n",
       "      <td>0</td>\n",
       "      <td>0</td>\n",
       "      <td>1</td>\n",
       "      <td>0</td>\n",
       "      <td>0</td>\n",
       "      <td>1</td>\n",
       "      <td>0</td>\n",
       "      <td>0</td>\n",
       "      <td>1</td>\n",
       "    </tr>\n",
       "  </tbody>\n",
       "</table>\n",
       "<p>5 rows × 31 columns</p>\n",
       "</div>"
      ],
      "text/plain": [
       "             gender  senior_citizen partner dependents  tenure phone_service  \\\n",
       "customer_id                                                                    \n",
       "0002-ORFBO   Female               0     Yes        Yes       9           Yes   \n",
       "0003-MKNFE     Male               0      No         No       9           Yes   \n",
       "0004-TLHLJ     Male               0      No         No       4           Yes   \n",
       "0011-IGKFF     Male               1     Yes         No      13           Yes   \n",
       "0013-EXCHZ   Female               1     Yes         No       3           Yes   \n",
       "\n",
       "            multiple_lines online_security online_backup device_protection  \\\n",
       "customer_id                                                                  \n",
       "0002-ORFBO              No              No           Yes                No   \n",
       "0003-MKNFE             Yes              No            No                No   \n",
       "0004-TLHLJ              No              No            No               Yes   \n",
       "0011-IGKFF              No              No           Yes               Yes   \n",
       "0013-EXCHZ              No              No            No                No   \n",
       "\n",
       "             ... multiple_lines_No phone service multiple_lines_Yes  \\\n",
       "customer_id  ...                                                      \n",
       "0002-ORFBO   ...                               0                  0   \n",
       "0003-MKNFE   ...                               0                  1   \n",
       "0004-TLHLJ   ...                               0                  0   \n",
       "0011-IGKFF   ...                               0                  0   \n",
       "0013-EXCHZ   ...                               0                  0   \n",
       "\n",
       "            online_security_Yes tech_support_Yes  contract_type_One year  \\\n",
       "customer_id                                                                \n",
       "0002-ORFBO                    0                1                       1   \n",
       "0003-MKNFE                    0                0                       0   \n",
       "0004-TLHLJ                    0                0                       0   \n",
       "0011-IGKFF                    0                0                       0   \n",
       "0013-EXCHZ                    0                1                       0   \n",
       "\n",
       "             contract_type_Two year  internet_service_type_Fiber optic  \\\n",
       "customer_id                                                              \n",
       "0002-ORFBO                        0                                  0   \n",
       "0003-MKNFE                        0                                  0   \n",
       "0004-TLHLJ                        0                                  1   \n",
       "0011-IGKFF                        0                                  1   \n",
       "0013-EXCHZ                        0                                  1   \n",
       "\n",
       "            payment_type_Credit card (automatic)  \\\n",
       "customer_id                                        \n",
       "0002-ORFBO                                     0   \n",
       "0003-MKNFE                                     0   \n",
       "0004-TLHLJ                                     0   \n",
       "0011-IGKFF                                     0   \n",
       "0013-EXCHZ                                     0   \n",
       "\n",
       "            payment_type_Electronic check payment_type_Mailed check  \n",
       "customer_id                                                          \n",
       "0002-ORFBO                              0                         1  \n",
       "0003-MKNFE                              0                         1  \n",
       "0004-TLHLJ                              1                         0  \n",
       "0011-IGKFF                              1                         0  \n",
       "0013-EXCHZ                              0                         1  \n",
       "\n",
       "[5 rows x 31 columns]"
      ]
     },
     "execution_count": 5,
     "metadata": {},
     "output_type": "execute_result"
    }
   ],
   "source": [
    "telco = w.prep_telco(telco) \n",
    "\n",
    "# total_charges had 'sneaky' nulls (a space saved as a string), which were replaced with 0s and converted to dtype float.\n",
    "\n",
    "telco.head()"
   ]
  },
  {
   "cell_type": "markdown",
   "id": "3f147aa8",
   "metadata": {},
   "source": [
    "Finally, we'll split the data into a train, validate, and test set, and continue our exploration, hypothesis testing, and modeling on the training dataset alone."
   ]
  },
  {
   "cell_type": "code",
   "execution_count": 6,
   "id": "781b5612",
   "metadata": {},
   "outputs": [
    {
     "data": {
      "text/html": [
       "<div>\n",
       "<style scoped>\n",
       "    .dataframe tbody tr th:only-of-type {\n",
       "        vertical-align: middle;\n",
       "    }\n",
       "\n",
       "    .dataframe tbody tr th {\n",
       "        vertical-align: top;\n",
       "    }\n",
       "\n",
       "    .dataframe thead th {\n",
       "        text-align: right;\n",
       "    }\n",
       "</style>\n",
       "<table border=\"1\" class=\"dataframe\">\n",
       "  <thead>\n",
       "    <tr style=\"text-align: right;\">\n",
       "      <th></th>\n",
       "      <th>gender</th>\n",
       "      <th>senior_citizen</th>\n",
       "      <th>partner</th>\n",
       "      <th>dependents</th>\n",
       "      <th>tenure</th>\n",
       "      <th>phone_service</th>\n",
       "      <th>multiple_lines</th>\n",
       "      <th>online_security</th>\n",
       "      <th>online_backup</th>\n",
       "      <th>device_protection</th>\n",
       "      <th>...</th>\n",
       "      <th>multiple_lines_No phone service</th>\n",
       "      <th>multiple_lines_Yes</th>\n",
       "      <th>online_security_Yes</th>\n",
       "      <th>tech_support_Yes</th>\n",
       "      <th>contract_type_One year</th>\n",
       "      <th>contract_type_Two year</th>\n",
       "      <th>internet_service_type_Fiber optic</th>\n",
       "      <th>payment_type_Credit card (automatic)</th>\n",
       "      <th>payment_type_Electronic check</th>\n",
       "      <th>payment_type_Mailed check</th>\n",
       "    </tr>\n",
       "    <tr>\n",
       "      <th>customer_id</th>\n",
       "      <th></th>\n",
       "      <th></th>\n",
       "      <th></th>\n",
       "      <th></th>\n",
       "      <th></th>\n",
       "      <th></th>\n",
       "      <th></th>\n",
       "      <th></th>\n",
       "      <th></th>\n",
       "      <th></th>\n",
       "      <th></th>\n",
       "      <th></th>\n",
       "      <th></th>\n",
       "      <th></th>\n",
       "      <th></th>\n",
       "      <th></th>\n",
       "      <th></th>\n",
       "      <th></th>\n",
       "      <th></th>\n",
       "      <th></th>\n",
       "      <th></th>\n",
       "    </tr>\n",
       "  </thead>\n",
       "  <tbody>\n",
       "    <tr>\n",
       "      <th>3474-BAFSJ</th>\n",
       "      <td>Male</td>\n",
       "      <td>0</td>\n",
       "      <td>Yes</td>\n",
       "      <td>No</td>\n",
       "      <td>57</td>\n",
       "      <td>No</td>\n",
       "      <td>No phone service</td>\n",
       "      <td>No</td>\n",
       "      <td>Yes</td>\n",
       "      <td>Yes</td>\n",
       "      <td>...</td>\n",
       "      <td>1</td>\n",
       "      <td>0</td>\n",
       "      <td>0</td>\n",
       "      <td>1</td>\n",
       "      <td>0</td>\n",
       "      <td>1</td>\n",
       "      <td>0</td>\n",
       "      <td>0</td>\n",
       "      <td>0</td>\n",
       "      <td>0</td>\n",
       "    </tr>\n",
       "    <tr>\n",
       "      <th>6599-RCLCJ</th>\n",
       "      <td>Male</td>\n",
       "      <td>0</td>\n",
       "      <td>Yes</td>\n",
       "      <td>No</td>\n",
       "      <td>47</td>\n",
       "      <td>Yes</td>\n",
       "      <td>Yes</td>\n",
       "      <td>No</td>\n",
       "      <td>Yes</td>\n",
       "      <td>Yes</td>\n",
       "      <td>...</td>\n",
       "      <td>0</td>\n",
       "      <td>1</td>\n",
       "      <td>0</td>\n",
       "      <td>1</td>\n",
       "      <td>0</td>\n",
       "      <td>0</td>\n",
       "      <td>1</td>\n",
       "      <td>0</td>\n",
       "      <td>1</td>\n",
       "      <td>0</td>\n",
       "    </tr>\n",
       "    <tr>\n",
       "      <th>4631-OACRM</th>\n",
       "      <td>Male</td>\n",
       "      <td>1</td>\n",
       "      <td>No</td>\n",
       "      <td>No</td>\n",
       "      <td>15</td>\n",
       "      <td>Yes</td>\n",
       "      <td>No</td>\n",
       "      <td>No</td>\n",
       "      <td>No</td>\n",
       "      <td>No</td>\n",
       "      <td>...</td>\n",
       "      <td>0</td>\n",
       "      <td>0</td>\n",
       "      <td>0</td>\n",
       "      <td>0</td>\n",
       "      <td>0</td>\n",
       "      <td>0</td>\n",
       "      <td>1</td>\n",
       "      <td>0</td>\n",
       "      <td>1</td>\n",
       "      <td>0</td>\n",
       "    </tr>\n",
       "    <tr>\n",
       "      <th>2867-UIMSS</th>\n",
       "      <td>Male</td>\n",
       "      <td>0</td>\n",
       "      <td>No</td>\n",
       "      <td>No</td>\n",
       "      <td>1</td>\n",
       "      <td>Yes</td>\n",
       "      <td>No</td>\n",
       "      <td>No</td>\n",
       "      <td>No</td>\n",
       "      <td>No</td>\n",
       "      <td>...</td>\n",
       "      <td>0</td>\n",
       "      <td>0</td>\n",
       "      <td>0</td>\n",
       "      <td>0</td>\n",
       "      <td>0</td>\n",
       "      <td>0</td>\n",
       "      <td>1</td>\n",
       "      <td>0</td>\n",
       "      <td>1</td>\n",
       "      <td>0</td>\n",
       "    </tr>\n",
       "    <tr>\n",
       "      <th>9842-EFSYY</th>\n",
       "      <td>Female</td>\n",
       "      <td>0</td>\n",
       "      <td>No</td>\n",
       "      <td>Yes</td>\n",
       "      <td>4</td>\n",
       "      <td>No</td>\n",
       "      <td>No phone service</td>\n",
       "      <td>Yes</td>\n",
       "      <td>Yes</td>\n",
       "      <td>Yes</td>\n",
       "      <td>...</td>\n",
       "      <td>1</td>\n",
       "      <td>0</td>\n",
       "      <td>1</td>\n",
       "      <td>0</td>\n",
       "      <td>0</td>\n",
       "      <td>0</td>\n",
       "      <td>0</td>\n",
       "      <td>0</td>\n",
       "      <td>0</td>\n",
       "      <td>1</td>\n",
       "    </tr>\n",
       "  </tbody>\n",
       "</table>\n",
       "<p>5 rows × 31 columns</p>\n",
       "</div>"
      ],
      "text/plain": [
       "             gender  senior_citizen partner dependents  tenure phone_service  \\\n",
       "customer_id                                                                    \n",
       "3474-BAFSJ     Male               0     Yes         No      57            No   \n",
       "6599-RCLCJ     Male               0     Yes         No      47           Yes   \n",
       "4631-OACRM     Male               1      No         No      15           Yes   \n",
       "2867-UIMSS     Male               0      No         No       1           Yes   \n",
       "9842-EFSYY   Female               0      No        Yes       4            No   \n",
       "\n",
       "               multiple_lines online_security online_backup device_protection  \\\n",
       "customer_id                                                                     \n",
       "3474-BAFSJ   No phone service              No           Yes               Yes   \n",
       "6599-RCLCJ                Yes              No           Yes               Yes   \n",
       "4631-OACRM                 No              No            No                No   \n",
       "2867-UIMSS                 No              No            No                No   \n",
       "9842-EFSYY   No phone service             Yes           Yes               Yes   \n",
       "\n",
       "             ... multiple_lines_No phone service multiple_lines_Yes  \\\n",
       "customer_id  ...                                                      \n",
       "3474-BAFSJ   ...                               1                  0   \n",
       "6599-RCLCJ   ...                               0                  1   \n",
       "4631-OACRM   ...                               0                  0   \n",
       "2867-UIMSS   ...                               0                  0   \n",
       "9842-EFSYY   ...                               1                  0   \n",
       "\n",
       "            online_security_Yes tech_support_Yes  contract_type_One year  \\\n",
       "customer_id                                                                \n",
       "3474-BAFSJ                    0                1                       0   \n",
       "6599-RCLCJ                    0                1                       0   \n",
       "4631-OACRM                    0                0                       0   \n",
       "2867-UIMSS                    0                0                       0   \n",
       "9842-EFSYY                    1                0                       0   \n",
       "\n",
       "             contract_type_Two year  internet_service_type_Fiber optic  \\\n",
       "customer_id                                                              \n",
       "3474-BAFSJ                        1                                  0   \n",
       "6599-RCLCJ                        0                                  1   \n",
       "4631-OACRM                        0                                  1   \n",
       "2867-UIMSS                        0                                  1   \n",
       "9842-EFSYY                        0                                  0   \n",
       "\n",
       "            payment_type_Credit card (automatic)  \\\n",
       "customer_id                                        \n",
       "3474-BAFSJ                                     0   \n",
       "6599-RCLCJ                                     0   \n",
       "4631-OACRM                                     0   \n",
       "2867-UIMSS                                     0   \n",
       "9842-EFSYY                                     0   \n",
       "\n",
       "            payment_type_Electronic check payment_type_Mailed check  \n",
       "customer_id                                                          \n",
       "3474-BAFSJ                              0                         0  \n",
       "6599-RCLCJ                              1                         0  \n",
       "4631-OACRM                              1                         0  \n",
       "2867-UIMSS                              1                         0  \n",
       "9842-EFSYY                              0                         1  \n",
       "\n",
       "[5 rows x 31 columns]"
      ]
     },
     "execution_count": 6,
     "metadata": {},
     "output_type": "execute_result"
    }
   ],
   "source": [
    "train_telco, validate_telco, test_telco = w.split_data(telco, 'churn')\n",
    "\n",
    "train_telco.head()"
   ]
  },
  {
   "cell_type": "markdown",
   "id": "f440d52f",
   "metadata": {},
   "source": [
    "# Data Exploration"
   ]
  },
  {
   "cell_type": "markdown",
   "id": "de300aed",
   "metadata": {},
   "source": [
    "We will look at the following variables:\n",
    "\n",
    "- tenure\n",
    "- monthly_charges\n",
    "- online_security\n",
    "- tech_support\n",
    "- contract_type\n",
    "- payment_type\n",
    "\n",
    "1) Does tenure affect whether a customer will churn? At what point in the customer's lifecycle should the client take action?"
   ]
  },
  {
   "cell_type": "code",
   "execution_count": 7,
   "id": "bb924b42",
   "metadata": {},
   "outputs": [
    {
     "name": "stdout",
     "output_type": "stream",
     "text": [
      "TENURE\n"
     ]
    },
    {
     "data": {
      "image/png": "[encoded data removed]",
      "text/plain": [
       "<Figure size 640x480 with 1 Axes>"
      ]
     },
     "metadata": {},
     "output_type": "display_data"
    },
    {
     "name": "stdout",
     "output_type": "stream",
     "text": [
      "\n",
      "Stats results for tenure vs churn:\n",
      "\n",
      "Stat value: 1782203.0\n",
      "P-value: 4.214882008010433e-119\n",
      "\n"
     ]
    }
   ],
   "source": [
    "em.get_variable_viz(train_telco, 'tenure')"
   ]
  },
  {
   "cell_type": "code",
   "execution_count": 8,
   "id": "6872f4b1",
   "metadata": {},
   "outputs": [
    {
     "data": {
      "text/plain": [
       "10.0"
      ]
     },
     "execution_count": 8,
     "metadata": {},
     "output_type": "execute_result"
    }
   ],
   "source": [
    "telco[telco.churn == 1].tenure.median() # Take a look at median tenure."
   ]
  },
  {
   "cell_type": "markdown",
   "id": "c75857d7",
   "metadata": {},
   "source": [
    "Yes, we can state that tenure affects whether a customer will churn. On average, 50% of customers that will churn will churn by the 10-month mark."
   ]
  },
  {
   "cell_type": "markdown",
   "id": "af82ee33",
   "metadata": {},
   "source": [
    "2) Do monthly_charges affect whether a customer will churn? How much more do churning customers spend a month?"
   ]
  },
  {
   "cell_type": "code",
   "execution_count": 9,
   "id": "00d3fc68",
   "metadata": {},
   "outputs": [
    {
     "name": "stdout",
     "output_type": "stream",
     "text": [
      "MONTHLY_CHARGES\n"
     ]
    },
    {
     "data": {
      "image/png": "[encoded data removed]",
      "text/plain": [
       "<Figure size 640x480 with 1 Axes>"
      ]
     },
     "metadata": {},
     "output_type": "display_data"
    },
    {
     "name": "stdout",
     "output_type": "stream",
     "text": [
      "\n",
      "Stats results for monthly_charges vs churn:\n",
      "\n",
      "Stat value: 1127920.5\n",
      "P-value: 0.018203216295552393\n",
      "\n"
     ]
    }
   ],
   "source": [
    "em.get_variable_viz(train_telco, 'monthly_charges')"
   ]
  },
  {
   "cell_type": "code",
   "execution_count": 10,
   "id": "a977b44c",
   "metadata": {},
   "outputs": [
    {
     "data": {
      "text/plain": [
       "1.579453686043962"
      ]
     },
     "execution_count": 10,
     "metadata": {},
     "output_type": "execute_result"
    }
   ],
   "source": [
    "# To get average difference in how much people pay per month.\n",
    "\n",
    "(telco[telco.churn == 1].monthly_charges.mean() - telco[telco.churn == 0].monthly_charges.mean())"
   ]
  },
  {
   "cell_type": "markdown",
   "id": "a33b0cbd",
   "metadata": {},
   "source": [
    "Even though p-value is smaller than usual $\\alpha$ = .05, I will drop this from my features sent into modeling. Note that on average, those who churn only pay $1.57 more per month. P-value must be small because of size of dataset."
   ]
  },
  {
   "cell_type": "markdown",
   "id": "53539728",
   "metadata": {},
   "source": [
    "3) Does online_security affect whether a customer will churn?"
   ]
  },
  {
   "cell_type": "code",
   "execution_count": 11,
   "id": "ff4c31bb",
   "metadata": {},
   "outputs": [
    {
     "name": "stdout",
     "output_type": "stream",
     "text": [
      "ONLINE_SECURITY\n"
     ]
    },
    {
     "data": {
      "image/png": "[encoded data removed]",
      "text/plain": [
       "<Figure size 640x480 with 1 Axes>"
      ]
     },
     "metadata": {},
     "output_type": "display_data"
    },
    {
     "name": "stdout",
     "output_type": "stream",
     "text": [
      "\n",
      "Stats results for online_security vs churn:\n",
      "\n",
      "Chi^2 value: 295.15665094757287\n",
      "P-value: 3.741125083006409e-66\n",
      "\n"
     ]
    }
   ],
   "source": [
    "em.get_variable_viz(train_telco, 'online_security')"
   ]
  },
  {
   "cell_type": "markdown",
   "id": "92f0783f",
   "metadata": {},
   "source": [
    "Yes, we can state that online_security affects churn."
   ]
  },
  {
   "cell_type": "markdown",
   "id": "be106951",
   "metadata": {},
   "source": [
    "4) Does tech_support affect whether a customer will churn?"
   ]
  },
  {
   "cell_type": "code",
   "execution_count": 12,
   "id": "39f30261",
   "metadata": {},
   "outputs": [
    {
     "name": "stdout",
     "output_type": "stream",
     "text": [
      "TECH_SUPPORT\n"
     ]
    },
    {
     "data": {
      "image/png": "[encoded data removed]",
      "text/plain": [
       "<Figure size 640x480 with 1 Axes>"
      ]
     },
     "metadata": {},
     "output_type": "display_data"
    },
    {
     "name": "stdout",
     "output_type": "stream",
     "text": [
      "\n",
      "Stats results for tech_support vs churn:\n",
      "\n",
      "Chi^2 value: 230.68328496178435\n",
      "P-value: 4.229903605783304e-52\n",
      "\n"
     ]
    }
   ],
   "source": [
    "em.get_variable_viz(train_telco, 'tech_support')"
   ]
  },
  {
   "cell_type": "markdown",
   "id": "0d372ad4",
   "metadata": {},
   "source": [
    "Yes, we can state that tech_support affects churn."
   ]
  },
  {
   "cell_type": "markdown",
   "id": "9df90fce",
   "metadata": {},
   "source": [
    "5) Does contract_type affect whether a customer will churn?"
   ]
  },
  {
   "cell_type": "code",
   "execution_count": 13,
   "id": "f5db30f4",
   "metadata": {},
   "outputs": [
    {
     "name": "stdout",
     "output_type": "stream",
     "text": [
      "CONTRACT_TYPE\n"
     ]
    },
    {
     "data": {
      "image/png": "[encoded data removed]",
      "text/plain": [
       "<Figure size 640x480 with 1 Axes>"
      ]
     },
     "metadata": {},
     "output_type": "display_data"
    },
    {
     "name": "stdout",
     "output_type": "stream",
     "text": [
      "\n",
      "Stats results for contract_type vs churn:\n",
      "\n",
      "Chi^2 value: 483.4465626663888\n",
      "P-value: 1.04933164316652e-105\n",
      "\n"
     ]
    }
   ],
   "source": [
    "em.get_variable_viz(train_telco, 'contract_type')"
   ]
  },
  {
   "cell_type": "markdown",
   "id": "d6a0a4e0",
   "metadata": {},
   "source": [
    "Yes, we can state that contract type affects whether a customer will churn."
   ]
  },
  {
   "cell_type": "markdown",
   "id": "69fc2d18",
   "metadata": {},
   "source": [
    "6) Does payment_type affect whether a customer will churn?"
   ]
  },
  {
   "cell_type": "code",
   "execution_count": 14,
   "id": "f5965d29",
   "metadata": {},
   "outputs": [
    {
     "name": "stdout",
     "output_type": "stream",
     "text": [
      "PAYMENT_TYPE\n"
     ]
    },
    {
     "data": {
      "image/png": "[encoded data removed]",
      "text/plain": [
       "<Figure size 640x480 with 1 Axes>"
      ]
     },
     "metadata": {},
     "output_type": "display_data"
    },
    {
     "name": "stdout",
     "output_type": "stream",
     "text": [
      "\n",
      "Stats results for payment_type vs churn:\n",
      "\n",
      "Chi^2 value: 221.26406603908833\n",
      "P-value: 1.0701969181413735e-47\n",
      "\n"
     ]
    }
   ],
   "source": [
    "em.get_variable_viz(train_telco, 'payment_type')"
   ]
  },
  {
   "cell_type": "code",
   "execution_count": 26,
   "id": "d36f8216",
   "metadata": {},
   "outputs": [
    {
     "data": {
      "text/html": [
       "<div>\n",
       "<style scoped>\n",
       "    .dataframe tbody tr th:only-of-type {\n",
       "        vertical-align: middle;\n",
       "    }\n",
       "\n",
       "    .dataframe tbody tr th {\n",
       "        vertical-align: top;\n",
       "    }\n",
       "\n",
       "    .dataframe thead th {\n",
       "        text-align: right;\n",
       "    }\n",
       "</style>\n",
       "<table border=\"1\" class=\"dataframe\">\n",
       "  <thead>\n",
       "    <tr style=\"text-align: right;\">\n",
       "      <th>churn</th>\n",
       "      <th>0</th>\n",
       "      <th>1</th>\n",
       "      <th>All</th>\n",
       "    </tr>\n",
       "    <tr>\n",
       "      <th>payment_type</th>\n",
       "      <th></th>\n",
       "      <th></th>\n",
       "      <th></th>\n",
       "    </tr>\n",
       "  </thead>\n",
       "  <tbody>\n",
       "    <tr>\n",
       "      <th>Bank transfer (automatic)</th>\n",
       "      <td>597</td>\n",
       "      <td>145</td>\n",
       "      <td>742</td>\n",
       "    </tr>\n",
       "    <tr>\n",
       "      <th>Credit card (automatic)</th>\n",
       "      <td>560</td>\n",
       "      <td>141</td>\n",
       "      <td>701</td>\n",
       "    </tr>\n",
       "    <tr>\n",
       "      <th>Electronic check</th>\n",
       "      <td>726</td>\n",
       "      <td>617</td>\n",
       "      <td>1343</td>\n",
       "    </tr>\n",
       "    <tr>\n",
       "      <th>Mailed check</th>\n",
       "      <td>372</td>\n",
       "      <td>151</td>\n",
       "      <td>523</td>\n",
       "    </tr>\n",
       "    <tr>\n",
       "      <th>All</th>\n",
       "      <td>2255</td>\n",
       "      <td>1054</td>\n",
       "      <td>3309</td>\n",
       "    </tr>\n",
       "  </tbody>\n",
       "</table>\n",
       "</div>"
      ],
      "text/plain": [
       "churn                         0     1   All\n",
       "payment_type                               \n",
       "Bank transfer (automatic)   597   145   742\n",
       "Credit card (automatic)     560   141   701\n",
       "Electronic check            726   617  1343\n",
       "Mailed check                372   151   523\n",
       "All                        2255  1054  3309"
      ]
     },
     "execution_count": 26,
     "metadata": {},
     "output_type": "execute_result"
    }
   ],
   "source": [
    "pd.crosstab(train_telco.payment_type, train_telco.churn, margins=True) # digging into e-check details"
   ]
  },
  {
   "cell_type": "markdown",
   "id": "b761cd38",
   "metadata": {},
   "source": [
    "Yes, we can state that payment type affects whether a customer will churn. 45.94% of customers that pay with electronic check have churned."
   ]
  },
  {
   "cell_type": "markdown",
   "id": "66275d0f",
   "metadata": {},
   "source": [
    "# Key Findings"
   ]
  },
  {
   "cell_type": "markdown",
   "id": "ba4378e6",
   "metadata": {},
   "source": [
    "- The variables had the following p-values, in descending order.\n",
    "  - tenure e-119\n",
    "  - contract type e-105\n",
    "  - online security e-66\n",
    "  - tech support e-52\n",
    "  - payment type e-47\n",
    "  - monthly charges .01\n",
    "- On average, 50% of customers that will churn will churn by the 10-month mark.\n",
    "- Fiber optic internet service has a much higher ratio of churn:no_churn than DSL.\n",
    "- Month-to-month contract type is most susceptible to churn.\n",
    "- 7.40% of customers with no internet will churn vs. 31.83% of customers with internet.\n",
    "- Among those who have internet, customers who churn pay an average of $1.57 more than those who don't per month.\n",
    "- 45.94% of customers that pay with electronic check have churned."
   ]
  },
  {
   "cell_type": "markdown",
   "id": "b94f3795",
   "metadata": {},
   "source": [
    "# Data Modeling"
   ]
  },
  {
   "cell_type": "markdown",
   "id": "697bf63b",
   "metadata": {},
   "source": [
    "We'll run the features we identified to affect churn into different classification models."
   ]
  },
  {
   "cell_type": "markdown",
   "id": "4a8bbe03",
   "metadata": {},
   "source": [
    "### Setting a baseline"
   ]
  },
  {
   "cell_type": "code",
   "execution_count": 15,
   "id": "e1c9af14",
   "metadata": {},
   "outputs": [
    {
     "data": {
      "text/plain": [
       "0    2255\n",
       "1    1054\n",
       "Name: churn, dtype: int64"
      ]
     },
     "execution_count": 15,
     "metadata": {},
     "output_type": "execute_result"
    }
   ],
   "source": [
    "train_telco.churn.value_counts()"
   ]
  },
  {
   "cell_type": "markdown",
   "id": "60cc5d93",
   "metadata": {},
   "source": [
    "Baseline accuracy to beat in our models is 2255/(2255+1054) = 68.14%"
   ]
  },
  {
   "cell_type": "markdown",
   "id": "40ba9912",
   "metadata": {},
   "source": [
    "### Splitting our dataset into the features we need to send into our model."
   ]
  },
  {
   "cell_type": "markdown",
   "id": "792e72b7",
   "metadata": {},
   "source": [
    "We'll use the encoded variables for the features we want to send in."
   ]
  },
  {
   "cell_type": "code",
   "execution_count": 19,
   "id": "39d53858",
   "metadata": {},
   "outputs": [],
   "source": [
    "features = ['tenure', 'contract_type_One year', 'contract_type_Two year', 'online_security_Yes', 'tech_support_Yes', 'payment_type_Credit card (automatic)', 'payment_type_Electronic check', 'payment_type_Mailed check']"
   ]
  },
  {
   "cell_type": "markdown",
   "id": "7391bc41",
   "metadata": {},
   "source": [
    "Preparing our data for input into different classification models."
   ]
  },
  {
   "cell_type": "code",
   "execution_count": 20,
   "id": "f27fa93e",
   "metadata": {},
   "outputs": [],
   "source": [
    "X_train = train_telco[features]\n",
    "y_train = train_telco.churn\n",
    "\n",
    "X_validate = validate_telco[features]\n",
    "y_validate = validate_telco.churn\n",
    "\n",
    "X_test = test_telco[features]\n",
    "y_test = test_telco.churn"
   ]
  },
  {
   "cell_type": "markdown",
   "id": "aec60b8f",
   "metadata": {},
   "source": [
    "## Performance Check across all Classification Models"
   ]
  },
  {
   "cell_type": "markdown",
   "id": "f421c2bd",
   "metadata": {},
   "source": [
    "For-loops were previously run for each classification model to find optimal accuracy while controlling for overfit of data. Below shows the best performance metrics for each model."
   ]
  },
  {
   "cell_type": "code",
   "execution_count": 21,
   "id": "b2d60bb3",
   "metadata": {},
   "outputs": [
    {
     "data": {
      "text/html": [
       "<div>\n",
       "<style scoped>\n",
       "    .dataframe tbody tr th:only-of-type {\n",
       "        vertical-align: middle;\n",
       "    }\n",
       "\n",
       "    .dataframe tbody tr th {\n",
       "        vertical-align: top;\n",
       "    }\n",
       "\n",
       "    .dataframe thead th {\n",
       "        text-align: right;\n",
       "    }\n",
       "</style>\n",
       "<table border=\"1\" class=\"dataframe\">\n",
       "  <thead>\n",
       "    <tr style=\"text-align: right;\">\n",
       "      <th></th>\n",
       "      <th>model</th>\n",
       "      <th>train</th>\n",
       "      <th>validate</th>\n",
       "      <th>hyper_value</th>\n",
       "      <th>difference</th>\n",
       "    </tr>\n",
       "  </thead>\n",
       "  <tbody>\n",
       "    <tr>\n",
       "      <th>0</th>\n",
       "      <td>Decision Tree</td>\n",
       "      <td>0.755515</td>\n",
       "      <td>0.755435</td>\n",
       "      <td>6</td>\n",
       "      <td>0.000080</td>\n",
       "    </tr>\n",
       "    <tr>\n",
       "      <th>1</th>\n",
       "      <td>Random Forest</td>\n",
       "      <td>0.755213</td>\n",
       "      <td>0.756341</td>\n",
       "      <td>6</td>\n",
       "      <td>-0.001128</td>\n",
       "    </tr>\n",
       "    <tr>\n",
       "      <th>2</th>\n",
       "      <td>KNN</td>\n",
       "      <td>0.764884</td>\n",
       "      <td>0.721014</td>\n",
       "      <td>8</td>\n",
       "      <td>0.043869</td>\n",
       "    </tr>\n",
       "    <tr>\n",
       "      <th>3</th>\n",
       "      <td>Logistic Regression</td>\n",
       "      <td>0.747658</td>\n",
       "      <td>0.752717</td>\n",
       "      <td>10</td>\n",
       "      <td>-0.005059</td>\n",
       "    </tr>\n",
       "  </tbody>\n",
       "</table>\n",
       "</div>"
      ],
      "text/plain": [
       "                 model     train  validate  hyper_value  difference\n",
       "0        Decision Tree  0.755515  0.755435            6    0.000080\n",
       "1        Random Forest  0.755213  0.756341            6   -0.001128\n",
       "2                  KNN  0.764884  0.721014            8    0.043869\n",
       "3  Logistic Regression  0.747658  0.752717           10   -0.005059"
      ]
     },
     "execution_count": 21,
     "metadata": {},
     "output_type": "execute_result"
    }
   ],
   "source": [
    "em.classification_models_performance(X_train, y_train, X_validate, y_validate)"
   ]
  },
  {
   "cell_type": "markdown",
   "id": "02c4fd07",
   "metadata": {},
   "source": [
    "We'll go with Random Forest (depth=6) since it's least susceptible to overfit of data."
   ]
  },
  {
   "cell_type": "markdown",
   "id": "91670b97",
   "metadata": {},
   "source": [
    "# Predictions"
   ]
  },
  {
   "cell_type": "markdown",
   "id": "fd886578",
   "metadata": {},
   "source": [
    "Using our chosen model, we'll cast predictions as to whether a customer will churn on our X_test, y_test dataset.\n",
    "\n",
    "The results are saved in the predictions.csv file on the local directory."
   ]
  },
  {
   "cell_type": "code",
   "execution_count": 22,
   "id": "69541bf7",
   "metadata": {},
   "outputs": [
    {
     "data": {
      "text/html": [
       "<div>\n",
       "<style scoped>\n",
       "    .dataframe tbody tr th:only-of-type {\n",
       "        vertical-align: middle;\n",
       "    }\n",
       "\n",
       "    .dataframe tbody tr th {\n",
       "        vertical-align: top;\n",
       "    }\n",
       "\n",
       "    .dataframe thead th {\n",
       "        text-align: right;\n",
       "    }\n",
       "</style>\n",
       "<table border=\"1\" class=\"dataframe\">\n",
       "  <thead>\n",
       "    <tr style=\"text-align: right;\">\n",
       "      <th></th>\n",
       "      <th>customer_id</th>\n",
       "      <th>prediction</th>\n",
       "      <th>churn_prob</th>\n",
       "    </tr>\n",
       "  </thead>\n",
       "  <tbody>\n",
       "    <tr>\n",
       "      <th>0</th>\n",
       "      <td>3002-WQZWT</td>\n",
       "      <td>0</td>\n",
       "      <td>0.467101</td>\n",
       "    </tr>\n",
       "    <tr>\n",
       "      <th>1</th>\n",
       "      <td>8080-POTJR</td>\n",
       "      <td>0</td>\n",
       "      <td>0.111941</td>\n",
       "    </tr>\n",
       "    <tr>\n",
       "      <th>2</th>\n",
       "      <td>7054-LGEQW</td>\n",
       "      <td>1</td>\n",
       "      <td>0.587329</td>\n",
       "    </tr>\n",
       "    <tr>\n",
       "      <th>3</th>\n",
       "      <td>4546-FOKWR</td>\n",
       "      <td>0</td>\n",
       "      <td>0.430703</td>\n",
       "    </tr>\n",
       "    <tr>\n",
       "      <th>4</th>\n",
       "      <td>5193-QLVZB</td>\n",
       "      <td>0</td>\n",
       "      <td>0.127593</td>\n",
       "    </tr>\n",
       "  </tbody>\n",
       "</table>\n",
       "</div>"
      ],
      "text/plain": [
       "  customer_id  prediction  churn_prob\n",
       "0  3002-WQZWT           0    0.467101\n",
       "1  8080-POTJR           0    0.111941\n",
       "2  7054-LGEQW           1    0.587329\n",
       "3  4546-FOKWR           0    0.430703\n",
       "4  5193-QLVZB           0    0.127593"
      ]
     },
     "execution_count": 22,
     "metadata": {},
     "output_type": "execute_result"
    }
   ],
   "source": [
    "rfc = RandomForestClassifier(max_depth=6, min_samples_leaf=5)\n",
    "\n",
    "rfc.fit(X_train, y_train)\n",
    "y_pred = rfc.predict(X_test)\n",
    "y_prob = rfc.predict_proba(X_test)\n",
    "\n",
    "predictions = pd.DataFrame({'customer_id': X_test.reset_index().customer_id, #reset_index since customer_id was set to index in prep\n",
    "             'prediction': y_pred,\n",
    "             'churn_prob': y_prob[:,1]})\n",
    "\n",
    "predictions.to_csv('predictions.csv', index=False) # Saving to csv.\n",
    "\n",
    "predictions.head() # Preview of csv file contents."
   ]
  },
  {
   "cell_type": "markdown",
   "id": "bfedfa7f",
   "metadata": {},
   "source": [
    "# Takeaways"
   ]
  },
  {
   "cell_type": "markdown",
   "id": "d8304041",
   "metadata": {},
   "source": [
    "- We did not meet our goal of predicting churn with 80% accuracy.\n",
    "\n",
    "\n",
    "Next steps:\n",
    "\n",
    "- We should look further into tech support as a likely factor."
   ]
  },
  {
   "cell_type": "markdown",
   "id": "bdcca04f",
   "metadata": {},
   "source": [
    "# Recommendations"
   ]
  },
  {
   "cell_type": "markdown",
   "id": "95a3788e",
   "metadata": {},
   "source": [
    "- Invest in R&D for their Fiber Optic service.\n",
    "- Offer incentives to customers once they hit the 10-month mark.\n",
    "- Look into possible issues with electronic check payments. Might be client-side, might be customer-side.\n",
    "- Offer incentives for customers to switch to automatic method of payment."
   ]
  }
 ],
 "metadata": {
  "kernelspec": {
   "display_name": "Python 3 (ipykernel)",
   "language": "python",
   "name": "python3"
  },
  "language_info": {
   "codemirror_mode": {
    "name": "ipython",
    "version": 3
   },
   "file_extension": ".py",
   "mimetype": "text/x-python",
   "name": "python",
   "nbconvert_exporter": "python",
   "pygments_lexer": "ipython3",
   "version": "3.9.13"
  }
 },
 "nbformat": 4,
 "nbformat_minor": 5
}
